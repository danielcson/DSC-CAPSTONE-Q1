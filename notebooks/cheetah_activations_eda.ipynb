{
  "cells": [
    {
      "cell_type": "code",
      "source": [
        "#code taken from https://github.com/deepmind/dm_control/blob/main/tutorial.ipynb\n",
        "#@title Run to install MuJoCo and `dm_control`\n",
        "import distutils.util\n",
        "import subprocess\n",
        "if subprocess.run('nvidia-smi').returncode:\n",
        "  raise RuntimeError(\n",
        "      'Cannot communicate with GPU. '\n",
        "      'Make sure you are using a GPU Colab runtime. '\n",
        "      'Go to the Runtime menu and select Choose runtime type.')\n",
        "\n",
        "print('Installing dm_control...')\n",
        "!pip install -q dm_control>=1.0.8\n",
        "\n",
        "# Configure dm_control to use the EGL rendering backend (requires GPU)\n",
        "%env MUJOCO_GL=egl\n",
        "# %env MUJOCO_GL=osmesa\n",
        "\n",
        "print('Checking that the dm_control installation succeeded...')\n",
        "try:\n",
        "  from dm_control import suite\n",
        "  env = suite.load('cartpole', 'swingup')\n",
        "  pixels = env.physics.render()\n",
        "except Exception as e:\n",
        "  raise e from RuntimeError(\n",
        "      'Something went wrong during installation. Check the shell output above '\n",
        "      'for more information.\\n'\n",
        "      'If using a hosted Colab runtime, make sure you enable GPU acceleration '\n",
        "      'by going to the Runtime menu and selecting \"Choose runtime type\".')\n",
        "else:\n",
        "  del pixels, suite\n",
        "\n",
        "!echo Installed dm_control $(pip show dm_control | grep -Po \"(?<=Version: ).+\")\n",
        "\n",
        "#other dependencies\n",
        "%pip install -q git+https://github.com/deepmind/acme.git#egg=dm-acme[jax,tf,envs]\n",
        "%pip install -q imageio-ffmpeg\n",
        "%pip install -q gdown\n",
        "%pip install rsatoolbox\n",
        "%pip install --upgrade numpy\n",
        "\n",
        "# download the pretrained weights\n",
        "import gdown\n",
        "gdown.download(\"https://drive.google.com/file/d/13Xug1PoJ3bl3Ya9MTM0p-AR513mtsIVR/view?usp=share_link\", fuzzy=True)"
      ],
      "metadata": {
        "colab": {
          "base_uri": "https://localhost:8080/",
          "height": 1000
        },
        "id": "J9V0asdX-04f",
        "outputId": "d0d3ee91-7c1b-4de9-e30b-803feba82242"
      },
      "execution_count": 1,
      "outputs": [
        {
          "output_type": "stream",
          "name": "stdout",
          "text": [
            "Installing dm_control...\n",
            "env: MUJOCO_GL=egl\n",
            "Checking that the dm_control installation succeeded...\n",
            "Installed dm_control 1.0.8\n",
            "\u001b[K     |████████████████████████████████| 85 kB 4.3 MB/s \n",
            "\u001b[K     |████████████████████████████████| 352 kB 35.8 MB/s \n",
            "\u001b[K     |████████████████████████████████| 189 kB 72.3 MB/s \n",
            "\u001b[K     |████████████████████████████████| 154 kB 67.1 MB/s \n",
            "\u001b[K     |████████████████████████████████| 128 kB 72.9 MB/s \n",
            "\u001b[K     |████████████████████████████████| 497.6 MB 1.9 kB/s \n",
            "\u001b[K     |████████████████████████████████| 5.7 MB 58.3 MB/s \n",
            "\u001b[K     |████████████████████████████████| 6.4 MB 28.8 MB/s \n",
            "\u001b[K     |████████████████████████████████| 6.1 MB 56.0 MB/s \n",
            "\u001b[K     |████████████████████████████████| 254 kB 73.3 MB/s \n",
            "\u001b[K     |████████████████████████████████| 104 kB 74.4 MB/s \n",
            "\u001b[K     |████████████████████████████████| 88 kB 10.7 MB/s \n",
            "\u001b[K     |████████████████████████████████| 720 kB 62.4 MB/s \n",
            "\u001b[?25h  Installing build dependencies ... \u001b[?25l\u001b[?25hdone\n",
            "  Getting requirements to build wheel ... \u001b[?25l\u001b[?25hdone\n",
            "    Preparing wheel metadata ... \u001b[?25l\u001b[?25hdone\n",
            "\u001b[K     |████████████████████████████████| 18.3 MB 148 kB/s \n",
            "\u001b[K     |████████████████████████████████| 45 kB 3.4 MB/s \n",
            "\u001b[K     |████████████████████████████████| 1.4 MB 54.1 MB/s \n",
            "\u001b[K     |████████████████████████████████| 462 kB 76.8 MB/s \n",
            "\u001b[K     |████████████████████████████████| 5.8 MB 54.8 MB/s \n",
            "\u001b[K     |████████████████████████████████| 110 kB 78.4 MB/s \n",
            "\u001b[K     |████████████████████████████████| 8.3 MB 65.4 MB/s \n",
            "\u001b[K     |████████████████████████████████| 237 kB 73.1 MB/s \n",
            "\u001b[K     |████████████████████████████████| 51 kB 8.6 MB/s \n",
            "\u001b[K     |████████████████████████████████| 721 kB 71.4 MB/s \n",
            "\u001b[?25h  Installing build dependencies ... \u001b[?25l\u001b[?25hdone\n",
            "  Getting requirements to build wheel ... \u001b[?25l\u001b[?25hdone\n",
            "    Preparing wheel metadata ... \u001b[?25l\u001b[?25hdone\n",
            "\u001b[K     |████████████████████████████████| 719 kB 69.6 MB/s \n",
            "\u001b[?25h  Installing build dependencies ... \u001b[?25l\u001b[?25hdone\n",
            "  Getting requirements to build wheel ... \u001b[?25l\u001b[?25hdone\n",
            "    Preparing wheel metadata ... \u001b[?25l\u001b[?25hdone\n",
            "\u001b[K     |████████████████████████████████| 710 kB 64.5 MB/s \n",
            "\u001b[?25h  Installing build dependencies ... \u001b[?25l\u001b[?25hdone\n",
            "  Getting requirements to build wheel ... \u001b[?25l\u001b[?25hdone\n",
            "    Preparing wheel metadata ... \u001b[?25l\u001b[?25hdone\n",
            "\u001b[K     |████████████████████████████████| 732 kB 61.3 MB/s \n",
            "\u001b[?25h  Installing build dependencies ... \u001b[?25l\u001b[?25hdone\n",
            "  Getting requirements to build wheel ... \u001b[?25l\u001b[?25hdone\n",
            "    Preparing wheel metadata ... \u001b[?25l\u001b[?25hdone\n",
            "\u001b[K     |████████████████████████████████| 1.6 MB 55.7 MB/s \n",
            "\u001b[K     |████████████████████████████████| 272 kB 73.9 MB/s \n",
            "\u001b[?25h  Building wheel for dm-acme (setup.py) ... \u001b[?25l\u001b[?25hdone\n",
            "  Building wheel for gym (PEP 517) ... \u001b[?25l\u001b[?25hdone\n",
            "  Building wheel for bsuite (setup.py) ... \u001b[?25l\u001b[?25hdone\n",
            "\u001b[K     |████████████████████████████████| 26.9 MB 57.8 MB/s \n",
            "\u001b[?25hLooking in indexes: https://pypi.org/simple, https://us-python.pkg.dev/colab-wheels/public/simple/\n",
            "Collecting rsatoolbox\n",
            "  Downloading rsatoolbox-0.0.5-cp38-cp38-manylinux_2_17_x86_64.manylinux2014_x86_64.whl (643 kB)\n",
            "\u001b[K     |████████████████████████████████| 643 kB 15.5 MB/s \n",
            "\u001b[?25hRequirement already satisfied: scikit-learn in /usr/local/lib/python3.8/dist-packages (from rsatoolbox) (1.0.2)\n",
            "Requirement already satisfied: pandas in /usr/local/lib/python3.8/dist-packages (from rsatoolbox) (1.3.5)\n",
            "Requirement already satisfied: scikit-image in /usr/local/lib/python3.8/dist-packages (from rsatoolbox) (0.18.3)\n",
            "Requirement already satisfied: h5py in /usr/local/lib/python3.8/dist-packages (from rsatoolbox) (3.1.0)\n",
            "Requirement already satisfied: scipy in /usr/local/lib/python3.8/dist-packages (from rsatoolbox) (1.7.3)\n",
            "Requirement already satisfied: tqdm in /usr/local/lib/python3.8/dist-packages (from rsatoolbox) (4.64.1)\n",
            "Requirement already satisfied: numpy>=1.21.2 in /usr/local/lib/python3.8/dist-packages (from rsatoolbox) (1.21.6)\n",
            "Requirement already satisfied: joblib in /usr/local/lib/python3.8/dist-packages (from rsatoolbox) (1.2.0)\n",
            "Collecting coverage\n",
            "  Downloading coverage-6.5.0-cp38-cp38-manylinux_2_5_x86_64.manylinux1_x86_64.manylinux_2_17_x86_64.manylinux2014_x86_64.whl (214 kB)\n",
            "\u001b[K     |████████████████████████████████| 214 kB 76.1 MB/s \n",
            "\u001b[?25hRequirement already satisfied: matplotlib in /usr/local/lib/python3.8/dist-packages (from rsatoolbox) (3.2.2)\n",
            "Requirement already satisfied: cycler>=0.10 in /usr/local/lib/python3.8/dist-packages (from matplotlib->rsatoolbox) (0.11.0)\n",
            "Requirement already satisfied: kiwisolver>=1.0.1 in /usr/local/lib/python3.8/dist-packages (from matplotlib->rsatoolbox) (1.4.4)\n",
            "Requirement already satisfied: python-dateutil>=2.1 in /usr/local/lib/python3.8/dist-packages (from matplotlib->rsatoolbox) (2.8.2)\n",
            "Requirement already satisfied: pyparsing!=2.0.4,!=2.1.2,!=2.1.6,>=2.0.1 in /usr/local/lib/python3.8/dist-packages (from matplotlib->rsatoolbox) (2.4.7)\n",
            "Requirement already satisfied: six>=1.5 in /usr/local/lib/python3.8/dist-packages (from python-dateutil>=2.1->matplotlib->rsatoolbox) (1.15.0)\n",
            "Requirement already satisfied: pytz>=2017.3 in /usr/local/lib/python3.8/dist-packages (from pandas->rsatoolbox) (2022.6)\n",
            "Requirement already satisfied: imageio>=2.3.0 in /usr/local/lib/python3.8/dist-packages (from scikit-image->rsatoolbox) (2.9.0)\n",
            "Requirement already satisfied: networkx>=2.0 in /usr/local/lib/python3.8/dist-packages (from scikit-image->rsatoolbox) (2.6.3)\n",
            "Requirement already satisfied: pillow!=7.1.0,!=7.1.1,>=4.3.0 in /usr/local/lib/python3.8/dist-packages (from scikit-image->rsatoolbox) (7.1.2)\n",
            "Requirement already satisfied: tifffile>=2019.7.26 in /usr/local/lib/python3.8/dist-packages (from scikit-image->rsatoolbox) (2021.11.2)\n",
            "Requirement already satisfied: PyWavelets>=1.1.1 in /usr/local/lib/python3.8/dist-packages (from scikit-image->rsatoolbox) (1.3.0)\n",
            "Requirement already satisfied: threadpoolctl>=2.0.0 in /usr/local/lib/python3.8/dist-packages (from scikit-learn->rsatoolbox) (3.1.0)\n",
            "Installing collected packages: coverage, rsatoolbox\n",
            "Successfully installed coverage-6.5.0 rsatoolbox-0.0.5\n",
            "Looking in indexes: https://pypi.org/simple, https://us-python.pkg.dev/colab-wheels/public/simple/\n",
            "Requirement already satisfied: numpy in /usr/local/lib/python3.8/dist-packages (1.21.6)\n",
            "Collecting numpy\n",
            "  Downloading numpy-1.23.5-cp38-cp38-manylinux_2_17_x86_64.manylinux2014_x86_64.whl (17.1 MB)\n",
            "\u001b[K     |████████████████████████████████| 17.1 MB 15.7 MB/s \n",
            "\u001b[?25hInstalling collected packages: numpy\n",
            "  Attempting uninstall: numpy\n",
            "    Found existing installation: numpy 1.21.6\n",
            "    Uninstalling numpy-1.21.6:\n",
            "      Successfully uninstalled numpy-1.21.6\n",
            "\u001b[31mERROR: pip's dependency resolver does not currently take into account all the packages that are installed. This behaviour is the source of the following dependency conflicts.\n",
            "scipy 1.7.3 requires numpy<1.23.0,>=1.16.5, but you have numpy 1.23.5 which is incompatible.\n",
            "rlax 0.1.4 requires numpy<1.23,>=1.18.0, but you have numpy 1.23.5 which is incompatible.\u001b[0m\n",
            "Successfully installed numpy-1.23.5\n"
          ]
        },
        {
          "output_type": "display_data",
          "data": {
            "application/vnd.colab-display-data+json": {
              "pip_warning": {
                "packages": [
                  "numpy"
                ]
              }
            }
          },
          "metadata": {}
        },
        {
          "output_type": "stream",
          "name": "stderr",
          "text": [
            "Downloading...\n",
            "From: https://drive.google.com/uc?id=13Xug1PoJ3bl3Ya9MTM0p-AR513mtsIVR\n",
            "To: /content/sac_checkpoint_cheetah_123456_10000\n",
            "100%|██████████| 3.22M/3.22M [00:00<00:00, 249MB/s]\n"
          ]
        },
        {
          "output_type": "execute_result",
          "data": {
            "text/plain": [
              "'sac_checkpoint_cheetah_123456_10000'"
            ],
            "application/vnd.google.colaboratory.intrinsic+json": {
              "type": "string"
            }
          },
          "metadata": {},
          "execution_count": 1
        }
      ]
    },
    {
      "cell_type": "code",
      "source": [
        "quit() # continue with the rest of the notebook after restarting the notebook"
      ],
      "metadata": {
        "id": "GqxEqEjgqju_"
      },
      "execution_count": 2,
      "outputs": []
    },
    {
      "cell_type": "code",
      "source": [
        "# command to delete\n",
        "!rm -rf DSC_CAPSTONE_Q1"
      ],
      "metadata": {
        "id": "p31AxvRJhM_Y"
      },
      "execution_count": 32,
      "outputs": []
    },
    {
      "cell_type": "code",
      "source": [
        "!git clone https://github.com/danielcson/DSC_CAPSTONE_Q1"
      ],
      "metadata": {
        "colab": {
          "base_uri": "https://localhost:8080/"
        },
        "id": "lv-8JgyGlzqd",
        "outputId": "334234e9-f49f-476c-8faa-876f0b167da3"
      },
      "execution_count": 1,
      "outputs": [
        {
          "output_type": "stream",
          "name": "stdout",
          "text": [
            "Cloning into 'DSC_CAPSTONE_Q1'...\n",
            "remote: Enumerating objects: 235, done.\u001b[K\n",
            "remote: Counting objects: 100% (52/52), done.\u001b[K\n",
            "remote: Compressing objects: 100% (32/32), done.\u001b[K\n",
            "remote: Total 235 (delta 36), reused 35 (delta 20), pack-reused 183\u001b[K\n",
            "Receiving objects: 100% (235/235), 55.81 KiB | 5.58 MiB/s, done.\n",
            "Resolving deltas: 100% (115/115), done.\n"
          ]
        }
      ]
    },
    {
      "cell_type": "code",
      "source": [
        "from DSC_CAPSTONE_Q1.src.model.train_agent import extract_kinematic_activations"
      ],
      "metadata": {
        "colab": {
          "base_uri": "https://localhost:8080/"
        },
        "id": "LS9gox4ufamN",
        "outputId": "e3c7ba9a-3e92-4476-aa77-d1ff5885cb1c"
      },
      "execution_count": 2,
      "outputs": [
        {
          "output_type": "stream",
          "name": "stderr",
          "text": [
            "/usr/local/lib/python3.8/dist-packages/glfw/__init__.py:912: GLFWError: (65544) b'X11: The DISPLAY environment variable is missing'\n",
            "  warnings.warn(message, GLFWError)\n",
            "/usr/local/lib/python3.8/dist-packages/scipy/__init__.py:146: UserWarning: A NumPy version >=1.16.5 and <1.23.0 is required for this version of SciPy (detected version 1.23.5\n",
            "  warnings.warn(f\"A NumPy version >={np_minversion} and <{np_maxversion}\"\n"
          ]
        }
      ]
    },
    {
      "cell_type": "code",
      "source": [
        "loaded_hook_dict, total_kinematic_dict = extract_kinematic_activations()"
      ],
      "metadata": {
        "colab": {
          "base_uri": "https://localhost:8080/"
        },
        "id": "6oxmC2rLjaO3",
        "outputId": "abf715e2-532a-4f86-8a59-6e0505a307ea"
      },
      "execution_count": 3,
      "outputs": [
        {
          "output_type": "stream",
          "name": "stdout",
          "text": [
            "Loading models from /content/sac_checkpoint_cheetah_123456_10000\n",
            "Episode: 0 Reward: 915.6527412738651\n",
            "Episode: 1 Reward: 915.9520588386804\n",
            "Episode: 2 Reward: 921.2316967565566\n",
            "Episode: 3 Reward: 920.8570361640304\n",
            "Episode: 4 Reward: 921.1595315039158\n",
            "Episode: 5 Reward: 915.0865408554673\n",
            "Episode: 6 Reward: 910.8593139275908\n",
            "Episode: 7 Reward: 918.7979112435132\n",
            "Episode: 8 Reward: 919.9246340468526\n",
            "Episode: 9 Reward: 920.0943673402071\n",
            "Episode: 10 Reward: 916.7344714011997\n",
            "Episode: 11 Reward: 916.435630267486\n",
            "Episode: 12 Reward: 914.8583064228296\n",
            "Episode: 13 Reward: 910.5383226200938\n",
            "Episode: 14 Reward: 916.9533488824964\n",
            "Episode: 15 Reward: 918.4780089464039\n",
            "Episode: 16 Reward: 914.5968259740621\n",
            "Episode: 17 Reward: 923.1183862034231\n",
            "Episode: 18 Reward: 916.3300436101854\n",
            "Episode: 19 Reward: 912.0889948345721\n",
            "Episode: 20 Reward: 917.4153832625598\n",
            "Episode: 21 Reward: 912.5480782352388\n",
            "Episode: 22 Reward: 912.8414623644203\n",
            "Episode: 23 Reward: 915.529782794416\n",
            "Episode: 24 Reward: 915.4261779468507\n",
            "Episode: 25 Reward: 913.7546355631202\n",
            "Episode: 26 Reward: 912.1693842187524\n",
            "Episode: 27 Reward: 921.2433992885053\n",
            "Episode: 28 Reward: 914.2148799542338\n",
            "Episode: 29 Reward: 916.1496965158731\n",
            "Episode: 30 Reward: 916.53040917404\n",
            "Episode: 31 Reward: 910.8430101424456\n",
            "Episode: 32 Reward: 917.4173991065472\n",
            "Episode: 33 Reward: 923.7586642205715\n",
            "Episode: 34 Reward: 914.7880508266389\n",
            "Episode: 35 Reward: 919.9858452957124\n",
            "Episode: 36 Reward: 915.9770935177803\n",
            "Episode: 37 Reward: 923.760708566755\n",
            "Episode: 38 Reward: 920.4075011126697\n",
            "Episode: 39 Reward: 922.5421430859715\n",
            "Episode: 40 Reward: 921.7661492358893\n",
            "Episode: 41 Reward: 917.6348651405424\n"
          ]
        }
      ]
    },
    {
      "cell_type": "code",
      "source": [
        "len(loaded_hook_dict['linear1'])"
      ],
      "metadata": {
        "colab": {
          "base_uri": "https://localhost:8080/"
        },
        "id": "mYJhMGi0kGQs",
        "outputId": "6808af7f-b321-4e12-9179-7ae956babea8"
      },
      "execution_count": 4,
      "outputs": [
        {
          "output_type": "execute_result",
          "data": {
            "text/plain": [
              "42000"
            ]
          },
          "metadata": {},
          "execution_count": 4
        }
      ]
    },
    {
      "cell_type": "code",
      "execution_count": 8,
      "outputs": [],
      "source": [
        "#@title More imports and constants\n",
        "# plot the activations\n",
        "# %matplotlib inline\n",
        "\n",
        "\n",
        "from sklearn.decomposition import PCA\n",
        "\n",
        "# try out the wrappers\n",
        "from acme import wrappers\n",
        "from dm_control import suite\n",
        "import tree\n",
        "\n",
        "import imageio\n",
        "from PIL import Image\n",
        "import io\n",
        "\n",
        "IMG_HEIGHT = 256\n",
        "IMG_WIDTH = 256\n",
        "\n",
        "# visualizations\n",
        "from rsatoolbox import vis\n",
        "from rsatoolbox import rdm\n",
        "from sklearn.cluster import KMeans\n",
        "import numpy as np\n",
        "import pandas as pd\n",
        "import seaborn as sns\n",
        "import matplotlib.pyplot as plt\n",
        "\n",
        "\n",
        "#@title SAC code\n",
        "# sac code\n",
        "import os\n",
        "import random\n",
        "import math\n",
        "import pickle\n",
        "import numpy as np\n",
        "\n",
        "import torch\n",
        "import torch.nn as nn\n",
        "import torch.nn.functional as F\n",
        "from torch.distributions import Normal\n",
        "from torch.optim import Adam\n",
        "\n",
        "LOG_SIG_MAX = 2\n",
        "LOG_SIG_MIN = -20\n",
        "epsilon = 1e-6\n",
        "\n",
        "#@title Environment wrappers\n",
        "from dm_env import specs\n"
      ],
      "metadata": {
        "pycharm": {
          "name": "#%%\n"
        },
        "id": "UFpiSebj-srS"
      }
    },
    {
      "cell_type": "code",
      "source": [
        "!git clone https://github.com/danielcson/DSC_CAPSTONE_Q1\n",
        "\n",
        "# %load DSC_CAPSTONE_Q1/src/etl.py"
      ],
      "metadata": {
        "colab": {
          "base_uri": "https://localhost:8080/"
        },
        "id": "dic8ln50Nast",
        "outputId": "3b0371b0-51bf-4f72-9e29-9b9224e2defc"
      },
      "execution_count": 1,
      "outputs": [
        {
          "output_type": "stream",
          "name": "stdout",
          "text": [
            "Cloning into 'DSC_CAPSTONE_Q1'...\n",
            "remote: Enumerating objects: 130, done.\u001b[K\n",
            "remote: Counting objects: 100% (130/130), done.\u001b[K\n",
            "remote: Compressing objects: 100% (106/106), done.\u001b[K\n",
            "remote: Total 130 (delta 52), reused 28 (delta 7), pack-reused 0\u001b[K\n",
            "Receiving objects: 100% (130/130), 34.93 KiB | 4.37 MiB/s, done.\n",
            "Resolving deltas: 100% (52/52), done.\n"
          ]
        }
      ]
    },
    {
      "cell_type": "code",
      "source": [
        "from DSC_CAPSTONE_Q1.src.etl import get_kinematics\n",
        "from DSC_CAPSTONE_Q1.src.etl import weights_init_\n",
        "from DSC_CAPSTONE_Q1.src.etl import ValueNetwork\n",
        "from DSC_CAPSTONE_Q1.src.etl import QNetwork\n",
        "from DSC_CAPSTONE_Q1.src.etl import GaussianPolicy\n",
        "from DSC_CAPSTONE_Q1.src.etl import DeterministicPolicy\n",
        "from DSC_CAPSTONE_Q1.src.etl import create_log_gaussian\n",
        "from DSC_CAPSTONE_Q1.src.etl import logsumexp\n",
        "from DSC_CAPSTONE_Q1.src.etl import soft_update\n",
        "from DSC_CAPSTONE_Q1.src.etl import hard_update\n",
        "from DSC_CAPSTONE_Q1.src.etl import ReplayMemory\n",
        "from DSC_CAPSTONE_Q1.src.etl import SAC\n",
        "from DSC_CAPSTONE_Q1.src.etl import NormilizeActionSpecWrapper\n",
        "from DSC_CAPSTONE_Q1.src.etl import MujocoActionNormalizer\n",
        "from DSC_CAPSTONE_Q1.src.etl import create_stitched_img\n",
        "from DSC_CAPSTONE_Q1.src.etl import get_flat_obs\n",
        "from DSC_CAPSTONE_Q1.src.etl import save_video\n",
        "from DSC_CAPSTONE_Q1.src.etl import hook_fn\n",
        "from DSC_CAPSTONE_Q1.src.etl import named_hook_fn\n",
        "from DSC_CAPSTONE_Q1.src.etl import recordtodict_hook\n",
        "from DSC_CAPSTONE_Q1.src.etl import test_add_hooks\n",
        "from DSC_CAPSTONE_Q1.src.etl import init_hook_dict\n",
        "from DSC_CAPSTONE_Q1.src.etl import compile_hook_dict\n",
        "from DSC_CAPSTONE_Q1.src.etl import save_hook_dict\n",
        "from DSC_CAPSTONE_Q1.src.etl import load_hook_dict\n",
        "from DSC_CAPSTONE_Q1.src.etl import save_pca_dict\n",
        "from DSC_CAPSTONE_Q1.src.etl import load_pca_dict\n",
        "from DSC_CAPSTONE_Q1.src.etl import get_activations\n",
        "from DSC_CAPSTONE_Q1.src.etl import plot_activations\n",
        "from DSC_CAPSTONE_Q1.src.etl import plot_single_point\n",
        "from DSC_CAPSTONE_Q1.src.etl import fig2img\n",
        "from DSC_CAPSTONE_Q1.src.etl import get_kinematics\n",
        "\n",
        "\n"
      ],
      "metadata": {
        "colab": {
          "base_uri": "https://localhost:8080/"
        },
        "id": "Id6HrKWTUFgO",
        "outputId": "58e00256-3c76-4b46-e1c9-d42dd5af5f6a"
      },
      "execution_count": 2,
      "outputs": [
        {
          "output_type": "stream",
          "name": "stderr",
          "text": [
            "/usr/local/lib/python3.8/dist-packages/scipy/__init__.py:146: UserWarning: A NumPy version >=1.16.5 and <1.23.0 is required for this version of SciPy (detected version 1.23.5\n",
            "  warnings.warn(f\"A NumPy version >={np_minversion} and <{np_maxversion}\"\n",
            "/usr/local/lib/python3.8/dist-packages/glfw/__init__.py:912: GLFWError: (65544) b'X11: The DISPLAY environment variable is missing'\n",
            "  warnings.warn(message, GLFWError)\n"
          ]
        }
      ]
    },
    {
      "cell_type": "code",
      "source": [
        "ValueNetwork.forward()"
      ],
      "metadata": {
        "colab": {
          "base_uri": "https://localhost:8080/",
          "height": 169
        },
        "id": "AuBZ2po5WQqT",
        "outputId": "489e4527-8473-47a8-d74c-69dd16a947e6"
      },
      "execution_count": 3,
      "outputs": [
        {
          "output_type": "error",
          "ename": "TypeError",
          "evalue": "ignored",
          "traceback": [
            "\u001b[0;31m---------------------------------------------------------------------------\u001b[0m",
            "\u001b[0;31mTypeError\u001b[0m                                 Traceback (most recent call last)",
            "\u001b[0;32m<ipython-input-3-c99de63af34a>\u001b[0m in \u001b[0;36m<module>\u001b[0;34m\u001b[0m\n\u001b[0;32m----> 1\u001b[0;31m \u001b[0mValueNetwork\u001b[0m\u001b[0;34m.\u001b[0m\u001b[0mforward\u001b[0m\u001b[0;34m(\u001b[0m\u001b[0;34m)\u001b[0m\u001b[0;34m\u001b[0m\u001b[0;34m\u001b[0m\u001b[0m\n\u001b[0m",
            "\u001b[0;31mTypeError\u001b[0m: forward() missing 2 required positional arguments: 'self' and 'state'"
          ]
        }
      ]
    },
    {
      "cell_type": "code",
      "execution_count": 12,
      "outputs": [],
      "source": [
        "#@title SAC code\n",
        "# sac code\n",
        "import os\n",
        "import random\n",
        "import math\n",
        "import pickle\n",
        "import numpy as np\n",
        "\n",
        "import torch\n",
        "import torch.nn as nn\n",
        "import torch.nn.functional as F\n",
        "from torch.distributions import Normal\n",
        "from torch.optim import Adam\n",
        "\n",
        "\"\"\"\n",
        "From model.py\n",
        "\"\"\"\n",
        "LOG_SIG_MAX = 2\n",
        "LOG_SIG_MIN = -20\n",
        "epsilon = 1e-6\n",
        "\n",
        "\n",
        "# Initialize Policy weights\n",
        "def weights_init_(m):\n",
        "    if isinstance(m, nn.Linear):\n",
        "        torch.nn.init.xavier_uniform_(m.weight, gain=1)\n",
        "        torch.nn.init.constant_(m.bias, 0)\n",
        "\n",
        "\n",
        "class ValueNetwork(nn.Module):\n",
        "    def __init__(self, num_inputs, hidden_dim):\n",
        "        super(ValueNetwork, self).__init__()\n",
        "\n",
        "        self.linear1 = nn.Linear(num_inputs, hidden_dim)\n",
        "        self.linear2 = nn.Linear(hidden_dim, hidden_dim)\n",
        "        self.linear3 = nn.Linear(hidden_dim, 1)\n",
        "\n",
        "        self.apply(weights_init_)\n",
        "\n",
        "    def forward(self, state):\n",
        "        x = F.relu(self.linear1(state))\n",
        "        x = F.relu(self.linear2(x))\n",
        "        x = self.linear3(x)\n",
        "        return x\n",
        "\n",
        "\n",
        "class QNetwork(nn.Module):\n",
        "    def __init__(self, num_inputs, num_actions, hidden_dim):\n",
        "        super(QNetwork, self).__init__()\n",
        "\n",
        "        # Q1 architecture\n",
        "        self.linear1 = nn.Linear(num_inputs + num_actions, hidden_dim)\n",
        "        self.linear2 = nn.Linear(hidden_dim, hidden_dim)\n",
        "        self.linear3 = nn.Linear(hidden_dim, 1)\n",
        "\n",
        "        # Q2 architecture\n",
        "        self.linear4 = nn.Linear(num_inputs + num_actions, hidden_dim)\n",
        "        self.linear5 = nn.Linear(hidden_dim, hidden_dim)\n",
        "        self.linear6 = nn.Linear(hidden_dim, 1)\n",
        "\n",
        "        self.apply(weights_init_)\n",
        "\n",
        "    def forward(self, state, action):\n",
        "        xu = torch.cat([state, action], 1)\n",
        "\n",
        "        x1 = F.relu(self.linear1(xu))\n",
        "        x1 = F.relu(self.linear2(x1))\n",
        "        x1 = self.linear3(x1)\n",
        "\n",
        "        x2 = F.relu(self.linear4(xu))\n",
        "        x2 = F.relu(self.linear5(x2))\n",
        "        x2 = self.linear6(x2)\n",
        "\n",
        "        return x1, x2\n",
        "\n",
        "\n",
        "class GaussianPolicy(nn.Module):\n",
        "    def __init__(self, num_inputs, num_actions, hidden_dim, action_space=None):\n",
        "        super(GaussianPolicy, self).__init__()\n",
        "\n",
        "        self.linear1 = nn.Linear(num_inputs, hidden_dim)\n",
        "        self.linear2 = nn.Linear(hidden_dim, hidden_dim)\n",
        "\n",
        "        self.mean_linear = nn.Linear(hidden_dim, num_actions)\n",
        "        self.log_std_linear = nn.Linear(hidden_dim, num_actions)\n",
        "\n",
        "        self.apply(weights_init_)\n",
        "\n",
        "        # action rescaling\n",
        "        if action_space is None:\n",
        "            self.action_scale = torch.tensor(1.)\n",
        "            self.action_bias = torch.tensor(0.)\n",
        "        else:\n",
        "            self.action_scale = torch.FloatTensor(\n",
        "                (action_space.maximum - action_space.minimum) / 2.)\n",
        "            self.action_bias = torch.FloatTensor(\n",
        "                (action_space.maximum + action_space.minimum) / 2.)\n",
        "\n",
        "    def forward(self, state):\n",
        "        x = F.relu(self.linear1(state))\n",
        "        x = F.relu(self.linear2(x))\n",
        "        mean = self.mean_linear(x)\n",
        "        log_std = self.log_std_linear(x)\n",
        "        log_std = torch.clamp(log_std, min=LOG_SIG_MIN, max=LOG_SIG_MAX)\n",
        "        return mean, log_std\n",
        "\n",
        "    def sample(self, state):\n",
        "        mean, log_std = self.forward(state)\n",
        "        std = log_std.exp()\n",
        "        normal = Normal(mean, std)\n",
        "        x_t = normal.rsample()  # for reparameterization trick (mean + std * N(0,1))\n",
        "        y_t = torch.tanh(x_t)\n",
        "        action = y_t * self.action_scale + self.action_bias\n",
        "        log_prob = normal.log_prob(x_t)\n",
        "        # Enforcing Action Bound\n",
        "        log_prob -= torch.log(self.action_scale * (1 - y_t.pow(2)) + epsilon)\n",
        "        log_prob = log_prob.sum(1, keepdim=True)\n",
        "        mean = torch.tanh(mean) * self.action_scale + self.action_bias\n",
        "        return action, log_prob, mean\n",
        "\n",
        "    def to(self, device):\n",
        "        self.action_scale = self.action_scale.to(device)\n",
        "        self.action_bias = self.action_bias.to(device)\n",
        "        return super(GaussianPolicy, self).to(device)\n",
        "\n",
        "\n",
        "class DeterministicPolicy(nn.Module):\n",
        "    def __init__(self, num_inputs, num_actions, hidden_dim, action_space=None):\n",
        "        super(DeterministicPolicy, self).__init__()\n",
        "        self.linear1 = nn.Linear(num_inputs, hidden_dim)\n",
        "        self.linear2 = nn.Linear(hidden_dim, hidden_dim)\n",
        "\n",
        "        self.mean = nn.Linear(hidden_dim, num_actions)\n",
        "        self.noise = torch.Tensor(num_actions)\n",
        "\n",
        "        self.apply(weights_init_)\n",
        "\n",
        "        # action rescaling\n",
        "        if action_space is None:\n",
        "            self.action_scale = 1.\n",
        "            self.action_bias = 0.\n",
        "        else:\n",
        "            self.action_scale = torch.FloatTensor(\n",
        "                (action_space.maximum - action_space.minimum) / 2.)\n",
        "            self.action_bias = torch.FloatTensor(\n",
        "                (action_space.maximum + action_space.minimum) / 2.)\n",
        "\n",
        "    def forward(self, state):\n",
        "        x = F.relu(self.linear1(state))\n",
        "        x = F.relu(self.linear2(x))\n",
        "        mean = torch.tanh(self.mean(x)) * self.action_scale + self.action_bias\n",
        "        return mean\n",
        "\n",
        "    def sample(self, state):\n",
        "        mean = self.forward(state)\n",
        "        noise = self.noise.normal_(0., std=0.1)\n",
        "        noise = noise.clamp(-0.25, 0.25)\n",
        "        action = mean + noise\n",
        "        return action, torch.tensor(0.), mean\n",
        "\n",
        "    def to(self, device):\n",
        "        self.action_scale = self.action_scale.to(device)\n",
        "        self.action_bias = self.action_bias.to(device)\n",
        "        self.noise = self.noise.to(device)\n",
        "        return super(DeterministicPolicy, self).to(device)\n",
        "\n",
        "\n",
        "\"\"\"\n",
        "From utils.py\n",
        "\"\"\"\n",
        "\n",
        "\n",
        "def create_log_gaussian(mean, log_std, t):\n",
        "    quadratic = -((0.5 * (t - mean) / (log_std.exp())).pow(2))\n",
        "    l = mean.shape\n",
        "    log_z = log_std\n",
        "    z = l[-1] * math.log(2 * math.pi)\n",
        "    log_p = quadratic.sum(dim=-1) - log_z.sum(dim=-1) - 0.5 * z\n",
        "    return log_p\n",
        "\n",
        "\n",
        "def logsumexp(inputs, dim=None, keepdim=False):\n",
        "    if dim is None:\n",
        "        inputs = inputs.view(-1)\n",
        "        dim = 0\n",
        "    s, _ = torch.max(inputs, dim=dim, keepdim=True)\n",
        "    outputs = s + (inputs - s).exp().sum(dim=dim, keepdim=True).log()\n",
        "    if not keepdim:\n",
        "        outputs = outputs.squeeze(dim)\n",
        "    return outputs\n",
        "\n",
        "\n",
        "def soft_update(target, source, tau):\n",
        "    for target_param, param in zip(target.parameters(), source.parameters()):\n",
        "        target_param.data.copy_(target_param.data * (1.0 - tau) + param.data * tau)\n",
        "\n",
        "\n",
        "def hard_update(target, source):\n",
        "    for target_param, param in zip(target.parameters(), source.parameters()):\n",
        "        target_param.data.copy_(param.data)\n",
        "\n",
        "\n",
        "\"\"\"\n",
        "From replay_memory.py\n",
        "\"\"\"\n",
        "\n",
        "\n",
        "class ReplayMemory:\n",
        "    def __init__(self, capacity, seed):\n",
        "        random.seed(seed)\n",
        "        self.capacity = capacity\n",
        "        self.buffer = []\n",
        "        self.position = 0\n",
        "\n",
        "    def push(self, state, action, reward, next_state, done):\n",
        "        if len(self.buffer) < self.capacity:\n",
        "            self.buffer.append(None)\n",
        "        self.buffer[self.position] = (state, action, reward, next_state, done)\n",
        "        self.position = (self.position + 1) % self.capacity\n",
        "\n",
        "    def sample(self, batch_size):\n",
        "        batch = random.sample(self.buffer, batch_size)\n",
        "        state, action, reward, next_state, done = map(np.stack, zip(*batch))\n",
        "        return state, action, reward, next_state, done\n",
        "\n",
        "    def __len__(self):\n",
        "        return len(self.buffer)\n",
        "\n",
        "    def save_buffer(self, env_name, suffix=\"\", save_path=None):\n",
        "        if not os.path.exists('checkpoints/'):\n",
        "            os.makedirs('checkpoints/')\n",
        "\n",
        "        if save_path is None:\n",
        "            save_path = \"checkpoints/sac_buffer_{}_{}\".format(env_name, suffix)\n",
        "        print('Saving buffer to {}'.format(save_path))\n",
        "\n",
        "        with open(save_path, 'wb') as f:\n",
        "            pickle.dump(self.buffer, f)\n",
        "\n",
        "    def load_buffer(self, save_path):\n",
        "        print('Loading buffer from {}'.format(save_path))\n",
        "\n",
        "        with open(save_path, \"rb\") as f:\n",
        "            self.buffer = pickle.load(f)\n",
        "            self.position = len(self.buffer) % self.capacity\n",
        "\n",
        "\n",
        "\"\"\"\n",
        "From sac.py\n",
        "\"\"\"\n",
        "\n",
        "\n",
        "class SAC(object):\n",
        "    def __init__(self, num_inputs, action_space, args):\n",
        "\n",
        "        self.gamma = args.gamma\n",
        "        self.tau = args.tau\n",
        "        self.alpha = args.alpha\n",
        "\n",
        "        self.policy_type = args.policy\n",
        "        self.target_update_interval = args.target_update_interval\n",
        "        self.automatic_entropy_tuning = args.automatic_entropy_tuning\n",
        "\n",
        "        self.device = torch.device(\"cuda\" if args.cuda else \"cpu\")\n",
        "\n",
        "        self.critic = QNetwork(num_inputs, action_space.shape[0], args.hidden_size).to(device=self.device)\n",
        "        self.critic_optim = Adam(self.critic.parameters(), lr=args.lr)\n",
        "\n",
        "        self.critic_target = QNetwork(num_inputs, action_space.shape[0], args.hidden_size).to(self.device)\n",
        "        hard_update(self.critic_target, self.critic)\n",
        "\n",
        "        if self.policy_type == \"Gaussian\":\n",
        "            # Target Entropy = −dim(A) (e.g. , -6 for HalfCheetah-v2) as given in the paper\n",
        "            if self.automatic_entropy_tuning is True:\n",
        "                self.target_entropy = -torch.prod(torch.Tensor(action_space.shape).to(self.device)).item()\n",
        "                self.log_alpha = torch.zeros(1, requires_grad=True, device=self.device)\n",
        "                self.alpha_optim = Adam([self.log_alpha], lr=args.lr)\n",
        "\n",
        "            self.policy = GaussianPolicy(num_inputs, action_space.shape[0], args.hidden_size, action_space).to(\n",
        "                self.device)\n",
        "            self.policy_optim = Adam(self.policy.parameters(), lr=args.lr)\n",
        "\n",
        "        else:\n",
        "            self.alpha = 0\n",
        "            self.automatic_entropy_tuning = False\n",
        "            self.policy = DeterministicPolicy(num_inputs, action_space.shape[0], args.hidden_size, action_space).to(\n",
        "                self.device)\n",
        "            self.policy_optim = Adam(self.policy.parameters(), lr=args.lr)\n",
        "\n",
        "    def select_action(self, state, evaluate=False):\n",
        "        state = torch.FloatTensor(state).to(self.device).unsqueeze(0)\n",
        "        if evaluate is False:\n",
        "            action, _, _ = self.policy.sample(state)\n",
        "        else:\n",
        "            _, _, action = self.policy.sample(state)\n",
        "        return action.detach().cpu().numpy()[0]\n",
        "\n",
        "    def update_parameters(self, memory, batch_size, updates):\n",
        "        # Sample a batch from memory\n",
        "        state_batch, action_batch, reward_batch, next_state_batch, mask_batch = memory.sample(batch_size=batch_size)\n",
        "\n",
        "        state_batch = torch.FloatTensor(state_batch).to(self.device)\n",
        "        next_state_batch = torch.FloatTensor(next_state_batch).to(self.device)\n",
        "        action_batch = torch.FloatTensor(action_batch).to(self.device)\n",
        "        reward_batch = torch.FloatTensor(reward_batch).to(self.device).unsqueeze(1)\n",
        "        mask_batch = torch.FloatTensor(mask_batch).to(self.device).unsqueeze(1)\n",
        "\n",
        "        with torch.no_grad():\n",
        "            next_state_action, next_state_log_pi, _ = self.policy.sample(next_state_batch)\n",
        "            qf1_next_target, qf2_next_target = self.critic_target(next_state_batch, next_state_action)\n",
        "            min_qf_next_target = torch.min(qf1_next_target, qf2_next_target) - self.alpha * next_state_log_pi\n",
        "            next_q_value = reward_batch + mask_batch * self.gamma * (min_qf_next_target)\n",
        "        qf1, qf2 = self.critic(state_batch,\n",
        "                               action_batch)  # Two Q-functions to mitigate positive bias in the policy improvement step\n",
        "        qf1_loss = F.mse_loss(qf1, next_q_value)  # JQ = 𝔼(st,at)~D[0.5(Q1(st,at) - r(st,at) - γ(𝔼st+1~p[V(st+1)]))^2]\n",
        "        qf2_loss = F.mse_loss(qf2, next_q_value)  # JQ = 𝔼(st,at)~D[0.5(Q1(st,at) - r(st,at) - γ(𝔼st+1~p[V(st+1)]))^2]\n",
        "        qf_loss = qf1_loss + qf2_loss\n",
        "\n",
        "        self.critic_optim.zero_grad()\n",
        "        qf_loss.backward()\n",
        "        self.critic_optim.step()\n",
        "\n",
        "        pi, log_pi, _ = self.policy.sample(state_batch)\n",
        "\n",
        "        qf1_pi, qf2_pi = self.critic(state_batch, pi)\n",
        "        min_qf_pi = torch.min(qf1_pi, qf2_pi)\n",
        "\n",
        "        policy_loss = ((\n",
        "                               self.alpha * log_pi) - min_qf_pi).mean()  # Jπ = 𝔼st∼D,εt∼N[α * logπ(f(εt;st)|st) − Q(st,f(εt;st))]\n",
        "\n",
        "        self.policy_optim.zero_grad()\n",
        "        policy_loss.backward()\n",
        "        self.policy_optim.step()\n",
        "\n",
        "        if self.automatic_entropy_tuning:\n",
        "            alpha_loss = -(self.log_alpha * (log_pi + self.target_entropy).detach()).mean()\n",
        "\n",
        "            self.alpha_optim.zero_grad()\n",
        "            alpha_loss.backward()\n",
        "            self.alpha_optim.step()\n",
        "\n",
        "            self.alpha = self.log_alpha.exp()\n",
        "            alpha_tlogs = self.alpha.clone()  # For TensorboardX logs\n",
        "        else:\n",
        "            alpha_loss = torch.tensor(0.).to(self.device)\n",
        "            alpha_tlogs = torch.tensor(self.alpha)  # For TensorboardX logs\n",
        "\n",
        "        if updates % self.target_update_interval == 0:\n",
        "            soft_update(self.critic_target, self.critic, self.tau)\n",
        "\n",
        "        return qf1_loss.item(), qf2_loss.item(), policy_loss.item(), alpha_loss.item(), alpha_tlogs.item()\n",
        "\n",
        "    # Save model parameters\n",
        "    def save_checkpoint(self, env_name, suffix=\"\", ckpt_path=None):\n",
        "        if not os.path.exists('checkpoints/'):\n",
        "            os.makedirs('checkpoints/')\n",
        "        if ckpt_path is None:\n",
        "            ckpt_path = \"checkpoints/sac_checkpoint_{}_{}\".format(env_name, suffix)\n",
        "        print('Saving models to {}'.format(ckpt_path))\n",
        "        torch.save({'policy_state_dict': self.policy.state_dict(),\n",
        "                    'critic_state_dict': self.critic.state_dict(),\n",
        "                    'critic_target_state_dict': self.critic_target.state_dict(),\n",
        "                    'critic_optimizer_state_dict': self.critic_optim.state_dict(),\n",
        "                    'policy_optimizer_state_dict': self.policy_optim.state_dict()}, ckpt_path)\n",
        "\n",
        "    # Load model parameters\n",
        "    def load_checkpoint(self, ckpt_path, evaluate=False):\n",
        "        print('Loading models from {}'.format(ckpt_path))\n",
        "        if ckpt_path is not None:\n",
        "            checkpoint = torch.load(ckpt_path)\n",
        "            self.policy.load_state_dict(checkpoint['policy_state_dict'])\n",
        "            self.critic.load_state_dict(checkpoint['critic_state_dict'])\n",
        "            self.critic_target.load_state_dict(checkpoint['critic_target_state_dict'])\n",
        "            self.critic_optim.load_state_dict(checkpoint['critic_optimizer_state_dict'])\n",
        "            self.policy_optim.load_state_dict(checkpoint['policy_optimizer_state_dict'])\n",
        "\n",
        "            if evaluate:\n",
        "                self.policy.eval()\n",
        "                self.critic.eval()\n",
        "                self.critic_target.eval()\n",
        "            else:\n",
        "                self.policy.train()\n",
        "                self.critic.train()\n",
        "                self.critic_target.train()"
      ],
      "metadata": {
        "pycharm": {
          "name": "#%%\n"
        },
        "id": "82RKaLgm-srU",
        "cellView": "form"
      }
    },
    {
      "cell_type": "code",
      "execution_count": 16,
      "outputs": [],
      "source": [
        "# @title Environment wrappers\n",
        "from dm_env import specs\n",
        "\n",
        "\n",
        "# environment wrappers\n",
        "class NormilizeActionSpecWrapper(wrappers.EnvironmentWrapper):\n",
        "    \"\"\"Turn each dimension of the actions into the range of [-1, 1].\"\"\"\n",
        "\n",
        "    def __init__(self, environment):\n",
        "        super().__init__(environment)\n",
        "\n",
        "        action_spec = environment.action_spec()\n",
        "        self._scale = action_spec.maximum - action_spec.minimum\n",
        "        self._offset = action_spec.minimum\n",
        "\n",
        "        minimum = action_spec.minimum * 0 - 1.\n",
        "        maximum = action_spec.minimum * 0 + 1.\n",
        "        self._action_spec = specs.BoundedArray(\n",
        "            action_spec.shape,\n",
        "            action_spec.dtype,\n",
        "            minimum,\n",
        "            maximum,\n",
        "            name=action_spec.name)\n",
        "\n",
        "    def _from_normal_actions(self, actions):\n",
        "        actions = 0.5 * (actions + 1.0)  # a_t is now in the range [0, 1]\n",
        "        # scale range to [minimum, maximum]\n",
        "        return actions * self._scale + self._offset\n",
        "\n",
        "    def step(self, action):\n",
        "        action = self._from_normal_actions(action)\n",
        "        return self._environment.step(action)\n",
        "\n",
        "    def action_spec(self):\n",
        "        return self._action_spec\n",
        "\n",
        "\n",
        "class MujocoActionNormalizer(wrappers.EnvironmentWrapper):\n",
        "    \"\"\"Rescale actions to [-1, 1] range for mujoco physics engine.\n",
        "\n",
        "    For control environments whose actions have bounded range in [-1, 1], this\n",
        "      adaptor rescale actions to the desired range. This allows actor network to\n",
        "      output unscaled actions for better gradient dynamics.\n",
        "    \"\"\"\n",
        "\n",
        "    def __init__(self, environment, rescale='clip'):\n",
        "        super().__init__(environment)\n",
        "        self._rescale = rescale\n",
        "\n",
        "    def step(self, action):\n",
        "        \"\"\"Rescale actions to [-1, 1] range before stepping wrapped environment.\"\"\"\n",
        "        if self._rescale == 'tanh':\n",
        "            scaled_actions = tree.map_structure(np.tanh, action)\n",
        "        elif self._rescale == 'clip':\n",
        "            scaled_actions = tree.map_structure(lambda a: np.clip(a, -1., 1.), action)\n",
        "        else:\n",
        "            raise ValueError('Unrecognized scaling option: %s' % self._rescale)\n",
        "        return self._environment.step(scaled_actions)\n",
        "\n"
      ],
      "metadata": {
        "pycharm": {
          "name": "#%%\n"
        },
        "id": "HbxFI8NI-srX",
        "cellView": "form"
      }
    },
    {
      "cell_type": "code",
      "execution_count": 14,
      "outputs": [],
      "source": [
        "#@title Helper functions\n",
        "# helper functions\n",
        "\n",
        "def create_stitched_img(env, num_cams=2, img_height=256, img_width=256):\n",
        "    tmp_img_arr = []\n",
        "\n",
        "    # stitch all the views together\n",
        "    for i in range(num_cams):\n",
        "        img = env.physics.render(img_height, img_width, camera_id=i)\n",
        "        im = Image.fromarray(img)\n",
        "        # save temporarily\n",
        "        tmp_img_arr.append(im)\n",
        "\n",
        "    # stitch the images together\n",
        "    # get the width and height of the images\n",
        "    widths, heights = zip(*(i.size for i in tmp_img_arr))\n",
        "    # get the total width and height\n",
        "    total_width = sum(widths)\n",
        "    max_height = max(heights)\n",
        "    # create a new image\n",
        "    new_im = Image.new('RGB', (total_width, max_height))\n",
        "    # paste the images together\n",
        "    x_offset = 0\n",
        "    for im in tmp_img_arr:\n",
        "        new_im.paste(im, (x_offset, 0))\n",
        "        x_offset += im.size[0]\n",
        "    return new_im\n",
        "\n",
        "\n",
        "def get_flat_obs(time_step):\n",
        "    # flatten all of the observations into a single array\n",
        "    flat_obs = tree.flatten(time_step.observation)\n",
        "    # combine all of the observations into a single array\n",
        "    obs = np.concatenate(flat_obs)\n",
        "    return obs\n",
        "\n",
        "\n",
        "def save_video(img_arr, video_name='video.mp4', fps=30):\n",
        "    \"\"\"\n",
        "    Save a video from a list of images\n",
        "    :param img_arr: list of images\n",
        "    :type img_arr: list\n",
        "    :param video_name: name of the video\n",
        "    :type video_name: str\n",
        "    :param fps: frames per second\n",
        "    :type fps: int\n",
        "    :return: True if successful\n",
        "    :rtype: bool\n",
        "    \"\"\"\n",
        "    video_path = os.path.join(os.getcwd(), video_name)\n",
        "    writer = imageio.get_writer(video_path, fps=30)\n",
        "    for img in img_arr:\n",
        "        writer.append_data(np.array(img))\n",
        "    writer.close()\n",
        "    return True\n",
        "\n",
        "\n",
        "# create hook function to record activations\n",
        "def hook_fn(module, input, output):\n",
        "    print('hook_fn called')\n",
        "    print('layer name:', module.__class__.__name__)\n",
        "    # print('input:', input)\n",
        "    print('output:', output.shape)\n",
        "\n",
        "\n",
        "def named_hook_fn(name):\n",
        "    def hook_fn(module, input, output):\n",
        "        print('hook_fn called')\n",
        "        print('layer class:', module.__class__.__name__)\n",
        "        print('name:', name)\n",
        "        # print('input:', input)\n",
        "        print('output:', output.shape)\n",
        "\n",
        "    return hook_fn\n",
        "\n",
        "\n",
        "def recordtodict_hook(name, hook_dict):\n",
        "    def hook_fn(module, input, output):\n",
        "        # append to the corresponding list\n",
        "        hook_dict[name] += output.clone().detach()\n",
        "        # hook_dict[name] += output.detach()\n",
        "\n",
        "    return hook_fn\n",
        "\n",
        "\n",
        "# add hooks\n",
        "def test_add_hooks(model):\n",
        "    for name, module in model.named_modules():\n",
        "        if isinstance(module, torch.nn.Linear):\n",
        "            module.register_forward_hook(named_hook_fn(name))\n",
        "\n",
        "\n",
        "# initialize a hook_dict that contains an empty list for each layer\n",
        "def init_hook_dict(model):\n",
        "    hook_dict = {}\n",
        "    for name, module in model.named_modules():\n",
        "        if isinstance(module, torch.nn.Linear):\n",
        "            hook_dict[name] = []\n",
        "    return hook_dict\n",
        "\n",
        "\n",
        "# compile the hook dict into a dict of numpy arrays\n",
        "def compile_hook_dict(hook_dict):\n",
        "    compiled_hook_dict = {}\n",
        "    for name, hook_list in hook_dict.items():\n",
        "        if len(hook_list) > 0:\n",
        "            compiled_hook_dict[name] = torch.stack(hook_list, dim=0).detach().cpu().numpy()\n",
        "    return compiled_hook_dict\n",
        "\n",
        "\n",
        "# save the hook_dict to a file\n",
        "def save_hook_dict(hook_dict, save_path):\n",
        "    # compile the hook_dict\n",
        "    compiled_hook_dict = compile_hook_dict(hook_dict)\n",
        "    # save the compiled_hook_dict\n",
        "    np.save(save_path, compiled_hook_dict)\n",
        "\n",
        "\n",
        "# load the hook_dict from a file\n",
        "def load_hook_dict(load_path):\n",
        "    compiled_hook_dict = np.load(load_path, allow_pickle=True).item()\n",
        "    return compiled_hook_dict\n",
        "\n",
        "\n",
        "def clear_hook_dict(hook_dict):\n",
        "    # clears the items in hook dict in-place\n",
        "    for name, hook_list in hook_dict.items():\n",
        "        hook_list.clear()\n",
        "\n",
        "\n",
        "# save the PCA\n",
        "def save_pca_dict(pca_dict, save_path):\n",
        "    np.save(save_path, pca_dict)\n",
        "\n",
        "\n",
        "# load the PCA\n",
        "def load_pca_dict(load_path):\n",
        "    pca_dict = np.load(load_path, allow_pickle=True).item()\n",
        "    return pca_dict\n",
        "\n",
        "\n",
        "def get_activations(pca_dict, compiled_hook_dict, layer_name, num_components=2):\n",
        "    # get the activations\n",
        "    activations = compiled_hook_dict[layer_name]\n",
        "    # get the pca\n",
        "    pca = pca_dict[layer_name]\n",
        "    # get the transformed activations\n",
        "    transformed_activations = pca.transform(activations)\n",
        "    return transformed_activations\n",
        "\n",
        "\n",
        "def plot_activations(activations, layer_name=None, save_path=None, show=False):\n",
        "    # assumes 2 components\n",
        "    # grab x and y\n",
        "    x, y = activations[:, 0], activations[:, 1]\n",
        "    # plot the activations\n",
        "    fig, ax = plt.subplots(figsize=(10, 10))\n",
        "    _ = ax.scatter(x, y, s=1)\n",
        "    _ = ax.set_xlabel('PC1')\n",
        "    _ = ax.set_ylabel('PC2')\n",
        "    if layer_name is not None:\n",
        "        ax.set_title(layer_name)\n",
        "    if save_path is not None:\n",
        "        plt.savefig(save_path)\n",
        "    if show:\n",
        "        plt.show()\n",
        "\n",
        "    return fig\n",
        "\n",
        "\n",
        "def plot_single_point(point, activations, pca, layer_name=None):\n",
        "    transformed = pca.transform(point)\n",
        "    # make a scatterplot\n",
        "    fig, ax = plt.subplots(figsize=(10, 10))\n",
        "    _ = ax.scatter(activations[:, 0], activations[:, 1], s=1, alpha=0.5)\n",
        "    # overlay our current dot\n",
        "    _ = ax.scatter(transformed[:, 0], transformed[:, 1], s=100, alpha=1, c='r')\n",
        "\n",
        "    if layer_name is not None:\n",
        "        _ = ax.set_title(layer_name)\n",
        "\n",
        "    # get the image\n",
        "    fig_im = fig2img(fig)\n",
        "    fig_im = fig_im.resize((IMG_HEIGHT, IMG_WIDTH))\n",
        "\n",
        "    plt.close()\n",
        "\n",
        "    return fig_im\n",
        "\n",
        "\n",
        "# # convert a matplotlib figure to an image\n",
        "# def fig2img(fig):\n",
        "#     # draw the renderer\n",
        "#     fig.canvas.draw()\n",
        "#\n",
        "#     # Get the RGBA buffer from the figure\n",
        "#     w, h = fig.canvas.get_width_height()\n",
        "#     buf = np.frombuffer(fig.canvas.tostring_rgb(), dtype=np.uint8)\n",
        "#     buf.shape = (w, h, 3)\n",
        "#\n",
        "#     # # canvas.tostring_argb give pixmap in ARGB mode. Roll the ALPHA channel to have it in RGBA mode\n",
        "#     # buf = np.roll(buf, 3, axis=2)\n",
        "#     return buf\n",
        "\n",
        "def fig2img(fig):\n",
        "    \"\"\"\n",
        "    Convert a Matplotlib figure to a PIL Image and return it\n",
        "    https://stackoverflow.com/a/61754995\n",
        "    \"\"\"\n",
        "    buf = io.BytesIO()\n",
        "    _ = fig.savefig(buf)\n",
        "    _ = buf.seek(0)\n",
        "    img = Image.open(buf)\n",
        "    img = img.convert('RGB')\n",
        "    return img\n",
        "\n",
        "def get_kinematics(physics, geom_nams, joint_names, actuator_names):\n",
        "    geom_positions = physics.named.data.geom_xpos[geom_nams]\n",
        "    joint_angles = physics.named.data.qpos[joint_names]\n",
        "    joint_velocities = physics.named.data.qvel[joint_names]\n",
        "    actuator_forces = physics.named.data.actuator_force[actuator_names]\n",
        "\n",
        "    return {\n",
        "        'geom_positions': geom_positions,\n",
        "        'joint_angles': joint_angles,\n",
        "        'joint_velocities': joint_velocities,\n",
        "        'actuator_forces': actuator_forces\n",
        "    }\n",
        "\n",
        "\n"
      ],
      "metadata": {
        "pycharm": {
          "name": "#%%\n"
        },
        "id": "PEtu84J0-srX",
        "cellView": "form"
      }
    },
    {
      "cell_type": "markdown",
      "source": [
        "## Environment and agent setup\n",
        "\n",
        "**NOTE: Make sure you download the pretrained weights or upload your own weights before running this cell!**"
      ],
      "metadata": {
        "id": "WwPJvZhfIRGO"
      }
    },
    {
      "cell_type": "code",
      "source": [
        "# download the pretrained weights\n",
        "import gdown\n",
        "gdown.download(\"https://drive.google.com/file/d/13Xug1PoJ3bl3Ya9MTM0p-AR513mtsIVR/view?usp=share_link\", fuzzy=True)"
      ],
      "metadata": {
        "id": "9ds1KM9LkT8i",
        "colab": {
          "base_uri": "https://localhost:8080/",
          "height": 163
        },
        "outputId": "82bc5c3e-05c3-41ae-dd4a-1475241a0317"
      },
      "execution_count": null,
      "outputs": [
        {
          "output_type": "stream",
          "name": "stderr",
          "text": [
            "/usr/local/lib/python3.8/dist-packages/html5lib/_trie/_base.py:3: DeprecationWarning: Using or importing the ABCs from 'collections' instead of from 'collections.abc' is deprecated since Python 3.3, and in 3.10 it will stop working\n",
            "  from collections import Mapping\n",
            "Downloading...\n",
            "From: https://drive.google.com/uc?id=13Xug1PoJ3bl3Ya9MTM0p-AR513mtsIVR\n",
            "To: /content/sac_checkpoint_cheetah_123456_10000\n",
            "100%|██████████| 3.22M/3.22M [00:00<00:00, 217MB/s]\n"
          ]
        },
        {
          "output_type": "execute_result",
          "data": {
            "text/plain": [
              "'sac_checkpoint_cheetah_123456_10000'"
            ],
            "application/vnd.google.colaboratory.intrinsic+json": {
              "type": "string"
            }
          },
          "metadata": {},
          "execution_count": 6
        }
      ]
    },
    {
      "cell_type": "code",
      "execution_count": 17,
      "outputs": [
        {
          "output_type": "stream",
          "name": "stdout",
          "text": [
            "Loading models from /content/sac_checkpoint_cheetah_123456_10000\n"
          ]
        }
      ],
      "source": [
        "# load the environment\n",
        "env = suite.load(domain_name=\"cheetah\", task_name=\"run\")\n",
        "# add wrappers onto the environment\n",
        "env = NormilizeActionSpecWrapper(env)\n",
        "env = MujocoActionNormalizer(environment=env, rescale='clip')\n",
        "env = wrappers.SinglePrecisionWrapper(env)\n",
        "\n",
        "\n",
        "class Args:\n",
        "    env_name = 'whatever'\n",
        "    policy = 'Gaussian'\n",
        "    eval = True\n",
        "    gamma = 0.99\n",
        "    tau = 0.005\n",
        "    lr = 0.0003\n",
        "    alpha = 0.2\n",
        "    automatic_entropy_tuning = True\n",
        "    seed = 42\n",
        "    batch_size = 256\n",
        "    num_steps = 1000000\n",
        "    hidden_size = 256\n",
        "    updates_per_step = 1\n",
        "    start_steps = 10000\n",
        "    target_update_interval = 1\n",
        "    replay_size = 1000000\n",
        "    cuda = False\n",
        "\n",
        "\n",
        "args = Args()\n",
        "\n",
        "# get the dimensionality of the observation_spec after flattening\n",
        "flat_obs = tree.flatten(env.observation_spec())\n",
        "# combine all the shapes\n",
        "obs_dim = sum([item.shape[0] for item in flat_obs])\n",
        "\n",
        "# setup agent\n",
        "agent = SAC(obs_dim, env.action_spec(), args)\n",
        "\n",
        "# load checkpoint - UPLOAD YOUR FILE HERE!\n",
        "model_path = '/content/sac_checkpoint_cheetah_123456_10000'\n",
        "agent.load_checkpoint(model_path, evaluate=True)\n",
        "\n",
        "# pull out model\n",
        "model = agent.policy\n",
        "# setup hook dict\n",
        "hook_dict = init_hook_dict(model)\n",
        "# add hooks\n",
        "for name, module in model.named_modules():\n",
        "    if isinstance(module, torch.nn.Linear):\n",
        "        module.register_forward_hook(recordtodict_hook(name=name, hook_dict=hook_dict))"
      ],
      "metadata": {
        "pycharm": {
          "name": "#%%\n"
        },
        "id": "dTgqlqlT-srY",
        "colab": {
          "base_uri": "https://localhost:8080/"
        },
        "outputId": "e509e949-a3ed-4588-e1d2-883357a6d4f9"
      }
    },
    {
      "cell_type": "markdown",
      "source": [
        "## Collecting activations and kinematics"
      ],
      "metadata": {
        "id": "mbG5D_afIX-q"
      }
    },
    {
      "cell_type": "code",
      "execution_count": 18,
      "outputs": [],
      "source": [
        "CHEETAH_GEOM_NAMES = ['ground', 'torso', 'head', 'bthigh', 'bshin', 'bfoot', 'fthigh', 'fshin', 'ffoot']\n",
        "CHEETAH_JOINT_NAMES = ['bthigh', 'bshin', 'bfoot', 'fthigh', 'fshin', 'ffoot']\n",
        "CHEETAH_ACTUATOR_NAMES = ['bthigh', 'bshin', 'bfoot', 'fthigh', 'fshin', 'ffoot']\n",
        "\n",
        "# get the mapping of the geom names\n",
        "geom_names_to_idx = {geom_name: idx for idx, geom_name in enumerate(CHEETAH_GEOM_NAMES)}\n",
        "# get the mapping of the joint names\n",
        "joint_names_to_idx = {joint_name: idx for idx, joint_name in enumerate(CHEETAH_JOINT_NAMES)}\n",
        "# get the mapping of the actuator names\n",
        "actuator_names_to_idx = {actuator_name: idx for idx, actuator_name in enumerate(CHEETAH_ACTUATOR_NAMES)}"
      ],
      "metadata": {
        "pycharm": {
          "name": "#%%\n"
        },
        "id": "MAH21fM0-srZ"
      }
    },
    {
      "cell_type": "code",
      "execution_count": 19,
      "outputs": [
        {
          "output_type": "stream",
          "name": "stdout",
          "text": [
            "Episode: 0 Reward: 918.9721715152264\n",
            "Episode: 1 Reward: 919.4559972323477\n",
            "Episode: 2 Reward: 923.389582823962\n",
            "Episode: 3 Reward: 921.4562503378838\n",
            "Episode: 4 Reward: 913.6732261776924\n",
            "Episode: 5 Reward: 922.10362948291\n",
            "Episode: 6 Reward: 917.7968416195363\n",
            "Episode: 7 Reward: 914.9377832207829\n"
          ]
        },
        {
          "output_type": "error",
          "ename": "KeyboardInterrupt",
          "evalue": "ignored",
          "traceback": [
            "\u001b[0;31m---------------------------------------------------------------------------\u001b[0m",
            "\u001b[0;31mKeyboardInterrupt\u001b[0m                         Traceback (most recent call last)",
            "\u001b[0;32m<ipython-input-19-1d809b19f719>\u001b[0m in \u001b[0;36m<module>\u001b[0;34m\u001b[0m\n\u001b[1;32m     17\u001b[0m         \u001b[0mstate\u001b[0m \u001b[0;34m=\u001b[0m \u001b[0mget_flat_obs\u001b[0m\u001b[0;34m(\u001b[0m\u001b[0mtime_step\u001b[0m\u001b[0;34m)\u001b[0m\u001b[0;34m\u001b[0m\u001b[0;34m\u001b[0m\u001b[0m\n\u001b[1;32m     18\u001b[0m         \u001b[0;31m# sample an action\u001b[0m\u001b[0;34m\u001b[0m\u001b[0;34m\u001b[0m\u001b[0;34m\u001b[0m\u001b[0m\n\u001b[0;32m---> 19\u001b[0;31m         \u001b[0maction\u001b[0m \u001b[0;34m=\u001b[0m \u001b[0magent\u001b[0m\u001b[0;34m.\u001b[0m\u001b[0mselect_action\u001b[0m\u001b[0;34m(\u001b[0m\u001b[0mstate\u001b[0m\u001b[0;34m)\u001b[0m\u001b[0;34m\u001b[0m\u001b[0;34m\u001b[0m\u001b[0m\n\u001b[0m\u001b[1;32m     20\u001b[0m         \u001b[0mtime_step\u001b[0m \u001b[0;34m=\u001b[0m \u001b[0menv\u001b[0m\u001b[0;34m.\u001b[0m\u001b[0mstep\u001b[0m\u001b[0;34m(\u001b[0m\u001b[0maction\u001b[0m\u001b[0;34m)\u001b[0m\u001b[0;34m\u001b[0m\u001b[0;34m\u001b[0m\u001b[0m\n\u001b[1;32m     21\u001b[0m \u001b[0;34m\u001b[0m\u001b[0m\n",
            "\u001b[0;32m<ipython-input-12-4e6ae2410d61>\u001b[0m in \u001b[0;36mselect_action\u001b[0;34m(self, state, evaluate)\u001b[0m\n\u001b[1;32m    291\u001b[0m         \u001b[0mstate\u001b[0m \u001b[0;34m=\u001b[0m \u001b[0mtorch\u001b[0m\u001b[0;34m.\u001b[0m\u001b[0mFloatTensor\u001b[0m\u001b[0;34m(\u001b[0m\u001b[0mstate\u001b[0m\u001b[0;34m)\u001b[0m\u001b[0;34m.\u001b[0m\u001b[0mto\u001b[0m\u001b[0;34m(\u001b[0m\u001b[0mself\u001b[0m\u001b[0;34m.\u001b[0m\u001b[0mdevice\u001b[0m\u001b[0;34m)\u001b[0m\u001b[0;34m.\u001b[0m\u001b[0munsqueeze\u001b[0m\u001b[0;34m(\u001b[0m\u001b[0;36m0\u001b[0m\u001b[0;34m)\u001b[0m\u001b[0;34m\u001b[0m\u001b[0;34m\u001b[0m\u001b[0m\n\u001b[1;32m    292\u001b[0m         \u001b[0;32mif\u001b[0m \u001b[0mevaluate\u001b[0m \u001b[0;32mis\u001b[0m \u001b[0;32mFalse\u001b[0m\u001b[0;34m:\u001b[0m\u001b[0;34m\u001b[0m\u001b[0;34m\u001b[0m\u001b[0m\n\u001b[0;32m--> 293\u001b[0;31m             \u001b[0maction\u001b[0m\u001b[0;34m,\u001b[0m \u001b[0m_\u001b[0m\u001b[0;34m,\u001b[0m \u001b[0m_\u001b[0m \u001b[0;34m=\u001b[0m \u001b[0mself\u001b[0m\u001b[0;34m.\u001b[0m\u001b[0mpolicy\u001b[0m\u001b[0;34m.\u001b[0m\u001b[0msample\u001b[0m\u001b[0;34m(\u001b[0m\u001b[0mstate\u001b[0m\u001b[0;34m)\u001b[0m\u001b[0;34m\u001b[0m\u001b[0;34m\u001b[0m\u001b[0m\n\u001b[0m\u001b[1;32m    294\u001b[0m         \u001b[0;32melse\u001b[0m\u001b[0;34m:\u001b[0m\u001b[0;34m\u001b[0m\u001b[0;34m\u001b[0m\u001b[0m\n\u001b[1;32m    295\u001b[0m             \u001b[0m_\u001b[0m\u001b[0;34m,\u001b[0m \u001b[0m_\u001b[0m\u001b[0;34m,\u001b[0m \u001b[0maction\u001b[0m \u001b[0;34m=\u001b[0m \u001b[0mself\u001b[0m\u001b[0;34m.\u001b[0m\u001b[0mpolicy\u001b[0m\u001b[0;34m.\u001b[0m\u001b[0msample\u001b[0m\u001b[0;34m(\u001b[0m\u001b[0mstate\u001b[0m\u001b[0;34m)\u001b[0m\u001b[0;34m\u001b[0m\u001b[0;34m\u001b[0m\u001b[0m\n",
            "\u001b[0;32m<ipython-input-12-4e6ae2410d61>\u001b[0m in \u001b[0;36msample\u001b[0;34m(self, state)\u001b[0m\n\u001b[1;32m    106\u001b[0m \u001b[0;34m\u001b[0m\u001b[0m\n\u001b[1;32m    107\u001b[0m     \u001b[0;32mdef\u001b[0m \u001b[0msample\u001b[0m\u001b[0;34m(\u001b[0m\u001b[0mself\u001b[0m\u001b[0;34m,\u001b[0m \u001b[0mstate\u001b[0m\u001b[0;34m)\u001b[0m\u001b[0;34m:\u001b[0m\u001b[0;34m\u001b[0m\u001b[0;34m\u001b[0m\u001b[0m\n\u001b[0;32m--> 108\u001b[0;31m         \u001b[0mmean\u001b[0m\u001b[0;34m,\u001b[0m \u001b[0mlog_std\u001b[0m \u001b[0;34m=\u001b[0m \u001b[0mself\u001b[0m\u001b[0;34m.\u001b[0m\u001b[0mforward\u001b[0m\u001b[0;34m(\u001b[0m\u001b[0mstate\u001b[0m\u001b[0;34m)\u001b[0m\u001b[0;34m\u001b[0m\u001b[0;34m\u001b[0m\u001b[0m\n\u001b[0m\u001b[1;32m    109\u001b[0m         \u001b[0mstd\u001b[0m \u001b[0;34m=\u001b[0m \u001b[0mlog_std\u001b[0m\u001b[0;34m.\u001b[0m\u001b[0mexp\u001b[0m\u001b[0;34m(\u001b[0m\u001b[0;34m)\u001b[0m\u001b[0;34m\u001b[0m\u001b[0;34m\u001b[0m\u001b[0m\n\u001b[1;32m    110\u001b[0m         \u001b[0mnormal\u001b[0m \u001b[0;34m=\u001b[0m \u001b[0mNormal\u001b[0m\u001b[0;34m(\u001b[0m\u001b[0mmean\u001b[0m\u001b[0;34m,\u001b[0m \u001b[0mstd\u001b[0m\u001b[0;34m)\u001b[0m\u001b[0;34m\u001b[0m\u001b[0;34m\u001b[0m\u001b[0m\n",
            "\u001b[0;32m<ipython-input-12-4e6ae2410d61>\u001b[0m in \u001b[0;36mforward\u001b[0;34m(self, state)\u001b[0m\n\u001b[1;32m    101\u001b[0m         \u001b[0mx\u001b[0m \u001b[0;34m=\u001b[0m \u001b[0mF\u001b[0m\u001b[0;34m.\u001b[0m\u001b[0mrelu\u001b[0m\u001b[0;34m(\u001b[0m\u001b[0mself\u001b[0m\u001b[0;34m.\u001b[0m\u001b[0mlinear2\u001b[0m\u001b[0;34m(\u001b[0m\u001b[0mx\u001b[0m\u001b[0;34m)\u001b[0m\u001b[0;34m)\u001b[0m\u001b[0;34m\u001b[0m\u001b[0;34m\u001b[0m\u001b[0m\n\u001b[1;32m    102\u001b[0m         \u001b[0mmean\u001b[0m \u001b[0;34m=\u001b[0m \u001b[0mself\u001b[0m\u001b[0;34m.\u001b[0m\u001b[0mmean_linear\u001b[0m\u001b[0;34m(\u001b[0m\u001b[0mx\u001b[0m\u001b[0;34m)\u001b[0m\u001b[0;34m\u001b[0m\u001b[0;34m\u001b[0m\u001b[0m\n\u001b[0;32m--> 103\u001b[0;31m         \u001b[0mlog_std\u001b[0m \u001b[0;34m=\u001b[0m \u001b[0mself\u001b[0m\u001b[0;34m.\u001b[0m\u001b[0mlog_std_linear\u001b[0m\u001b[0;34m(\u001b[0m\u001b[0mx\u001b[0m\u001b[0;34m)\u001b[0m\u001b[0;34m\u001b[0m\u001b[0;34m\u001b[0m\u001b[0m\n\u001b[0m\u001b[1;32m    104\u001b[0m         \u001b[0mlog_std\u001b[0m \u001b[0;34m=\u001b[0m \u001b[0mtorch\u001b[0m\u001b[0;34m.\u001b[0m\u001b[0mclamp\u001b[0m\u001b[0;34m(\u001b[0m\u001b[0mlog_std\u001b[0m\u001b[0;34m,\u001b[0m \u001b[0mmin\u001b[0m\u001b[0;34m=\u001b[0m\u001b[0mLOG_SIG_MIN\u001b[0m\u001b[0;34m,\u001b[0m \u001b[0mmax\u001b[0m\u001b[0;34m=\u001b[0m\u001b[0mLOG_SIG_MAX\u001b[0m\u001b[0;34m)\u001b[0m\u001b[0;34m\u001b[0m\u001b[0;34m\u001b[0m\u001b[0m\n\u001b[1;32m    105\u001b[0m         \u001b[0;32mreturn\u001b[0m \u001b[0mmean\u001b[0m\u001b[0;34m,\u001b[0m \u001b[0mlog_std\u001b[0m\u001b[0;34m\u001b[0m\u001b[0;34m\u001b[0m\u001b[0m\n",
            "\u001b[0;32m/usr/local/lib/python3.8/dist-packages/torch/nn/modules/module.py\u001b[0m in \u001b[0;36m_call_impl\u001b[0;34m(self, *input, **kwargs)\u001b[0m\n\u001b[1;32m   1149\u001b[0m         \u001b[0;32mif\u001b[0m \u001b[0m_global_forward_hooks\u001b[0m \u001b[0;32mor\u001b[0m \u001b[0mself\u001b[0m\u001b[0;34m.\u001b[0m\u001b[0m_forward_hooks\u001b[0m\u001b[0;34m:\u001b[0m\u001b[0;34m\u001b[0m\u001b[0;34m\u001b[0m\u001b[0m\n\u001b[1;32m   1150\u001b[0m             \u001b[0;32mfor\u001b[0m \u001b[0mhook\u001b[0m \u001b[0;32min\u001b[0m \u001b[0;34m(\u001b[0m\u001b[0;34m*\u001b[0m\u001b[0m_global_forward_hooks\u001b[0m\u001b[0;34m.\u001b[0m\u001b[0mvalues\u001b[0m\u001b[0;34m(\u001b[0m\u001b[0;34m)\u001b[0m\u001b[0;34m,\u001b[0m \u001b[0;34m*\u001b[0m\u001b[0mself\u001b[0m\u001b[0;34m.\u001b[0m\u001b[0m_forward_hooks\u001b[0m\u001b[0;34m.\u001b[0m\u001b[0mvalues\u001b[0m\u001b[0;34m(\u001b[0m\u001b[0;34m)\u001b[0m\u001b[0;34m)\u001b[0m\u001b[0;34m:\u001b[0m\u001b[0;34m\u001b[0m\u001b[0;34m\u001b[0m\u001b[0m\n\u001b[0;32m-> 1151\u001b[0;31m                 \u001b[0mhook_result\u001b[0m \u001b[0;34m=\u001b[0m \u001b[0mhook\u001b[0m\u001b[0;34m(\u001b[0m\u001b[0mself\u001b[0m\u001b[0;34m,\u001b[0m \u001b[0minput\u001b[0m\u001b[0;34m,\u001b[0m \u001b[0mresult\u001b[0m\u001b[0;34m)\u001b[0m\u001b[0;34m\u001b[0m\u001b[0;34m\u001b[0m\u001b[0m\n\u001b[0m\u001b[1;32m   1152\u001b[0m                 \u001b[0;32mif\u001b[0m \u001b[0mhook_result\u001b[0m \u001b[0;32mis\u001b[0m \u001b[0;32mnot\u001b[0m \u001b[0;32mNone\u001b[0m\u001b[0;34m:\u001b[0m\u001b[0;34m\u001b[0m\u001b[0;34m\u001b[0m\u001b[0m\n\u001b[1;32m   1153\u001b[0m                     \u001b[0mresult\u001b[0m \u001b[0;34m=\u001b[0m \u001b[0mhook_result\u001b[0m\u001b[0;34m\u001b[0m\u001b[0;34m\u001b[0m\u001b[0m\n",
            "\u001b[0;32m<ipython-input-14-f8f323622780>\u001b[0m in \u001b[0;36mhook_fn\u001b[0;34m(module, input, output)\u001b[0m\n\u001b[1;32m     78\u001b[0m     \u001b[0;32mdef\u001b[0m \u001b[0mhook_fn\u001b[0m\u001b[0;34m(\u001b[0m\u001b[0mmodule\u001b[0m\u001b[0;34m,\u001b[0m \u001b[0minput\u001b[0m\u001b[0;34m,\u001b[0m \u001b[0moutput\u001b[0m\u001b[0;34m)\u001b[0m\u001b[0;34m:\u001b[0m\u001b[0;34m\u001b[0m\u001b[0;34m\u001b[0m\u001b[0m\n\u001b[1;32m     79\u001b[0m         \u001b[0;31m# append to the corresponding list\u001b[0m\u001b[0;34m\u001b[0m\u001b[0;34m\u001b[0m\u001b[0;34m\u001b[0m\u001b[0m\n\u001b[0;32m---> 80\u001b[0;31m         \u001b[0mhook_dict\u001b[0m\u001b[0;34m[\u001b[0m\u001b[0mname\u001b[0m\u001b[0;34m]\u001b[0m \u001b[0;34m+=\u001b[0m \u001b[0moutput\u001b[0m\u001b[0;34m.\u001b[0m\u001b[0mclone\u001b[0m\u001b[0;34m(\u001b[0m\u001b[0;34m)\u001b[0m\u001b[0;34m.\u001b[0m\u001b[0mdetach\u001b[0m\u001b[0;34m(\u001b[0m\u001b[0;34m)\u001b[0m\u001b[0;34m\u001b[0m\u001b[0;34m\u001b[0m\u001b[0m\n\u001b[0m\u001b[1;32m     81\u001b[0m         \u001b[0;31m# hook_dict[name] += output.detach()\u001b[0m\u001b[0;34m\u001b[0m\u001b[0;34m\u001b[0m\u001b[0;34m\u001b[0m\u001b[0m\n\u001b[1;32m     82\u001b[0m \u001b[0;34m\u001b[0m\u001b[0m\n",
            "\u001b[0;32m/usr/local/lib/python3.8/dist-packages/torch/_tensor.py\u001b[0m in \u001b[0;36m__iter__\u001b[0;34m(self)\u001b[0m\n\u001b[1;32m    711\u001b[0m         \u001b[0;32mreturn\u001b[0m \u001b[0mself\u001b[0m\u001b[0;34m.\u001b[0m\u001b[0mshape\u001b[0m\u001b[0;34m[\u001b[0m\u001b[0;36m0\u001b[0m\u001b[0;34m]\u001b[0m\u001b[0;34m\u001b[0m\u001b[0;34m\u001b[0m\u001b[0m\n\u001b[1;32m    712\u001b[0m \u001b[0;34m\u001b[0m\u001b[0m\n\u001b[0;32m--> 713\u001b[0;31m     \u001b[0;32mdef\u001b[0m \u001b[0m__iter__\u001b[0m\u001b[0;34m(\u001b[0m\u001b[0mself\u001b[0m\u001b[0;34m)\u001b[0m\u001b[0;34m:\u001b[0m\u001b[0;34m\u001b[0m\u001b[0;34m\u001b[0m\u001b[0m\n\u001b[0m\u001b[1;32m    714\u001b[0m         \u001b[0;31m# NB: we use 'imap' and not 'map' here, so that in Python 2 we get a\u001b[0m\u001b[0;34m\u001b[0m\u001b[0;34m\u001b[0m\u001b[0;34m\u001b[0m\u001b[0m\n\u001b[1;32m    715\u001b[0m         \u001b[0;31m# generator and don't eagerly perform all the indexes.  This could\u001b[0m\u001b[0;34m\u001b[0m\u001b[0;34m\u001b[0m\u001b[0;34m\u001b[0m\u001b[0m\n",
            "\u001b[0;31mKeyboardInterrupt\u001b[0m: "
          ]
        }
      ],
      "source": [
        "# run a few episodes just to collect activations\n",
        "num_episodes_to_run = 42\n",
        "\n",
        "# for recording kinematics\n",
        "total_kinematic_dict = {\n",
        "    'geom_positions': [],\n",
        "    'joint_angles': [],\n",
        "    'joint_velocities': [],\n",
        "    'actuator_forces': []\n",
        "}\n",
        "\n",
        "for i in range(num_episodes_to_run):\n",
        "    time_step = env.reset()\n",
        "    episode_reward = 0\n",
        "    while not time_step.last():  # or env.get_termination()\n",
        "        # get the state\n",
        "        state = get_flat_obs(time_step)\n",
        "        # sample an action\n",
        "        action = agent.select_action(state)\n",
        "        time_step = env.step(action)\n",
        "\n",
        "        # record kinematics\n",
        "        kinematic_dict = get_kinematics(env.physics, CHEETAH_GEOM_NAMES, CHEETAH_JOINT_NAMES, CHEETAH_ACTUATOR_NAMES)\n",
        "        total_kinematic_dict['geom_positions'].append(kinematic_dict['geom_positions'])\n",
        "        total_kinematic_dict['joint_angles'].append(kinematic_dict['joint_angles'])\n",
        "        total_kinematic_dict['joint_velocities'].append(kinematic_dict['joint_velocities'])\n",
        "        total_kinematic_dict['actuator_forces'].append(kinematic_dict['actuator_forces'])\n",
        "        # record reward\n",
        "        episode_reward += time_step.reward\n",
        "    print('Episode: {} Reward: {}'.format(i, episode_reward))"
      ],
      "metadata": {
        "pycharm": {
          "name": "#%%\n"
        },
        "id": "2HdaU6d3-srZ",
        "colab": {
          "base_uri": "https://localhost:8080/",
          "height": 532
        },
        "outputId": "40e75390-8ec1-4210-a553-87fb1f0a6c3e"
      }
    },
    {
      "cell_type": "code",
      "source": [
        "#### optional: save + load the hook_dict\n",
        "# save_path = 'hook_dict.npy'\n",
        "# save_hook_dict(hook_dict, save_path)\n",
        "\n",
        "# load_path = 'hook_dict.npy'\n",
        "# loaded_hook_dict = load_hook_dict(load_path)\n"
      ],
      "metadata": {
        "id": "ho8eGUoYl4WT"
      },
      "execution_count": null,
      "outputs": []
    },
    {
      "cell_type": "code",
      "source": [
        "# otherwise, just compile the hook_dict\n",
        "loaded_hook_dict = compile_hook_dict(hook_dict)"
      ],
      "metadata": {
        "id": "4BIAKnOuIdUj"
      },
      "execution_count": null,
      "outputs": []
    },
    {
      "cell_type": "code",
      "source": [
        "# process the kinematics - convert the kinematics to numpy arrays\n",
        "total_kinematic_dict['geom_positions'] = np.stack(total_kinematic_dict['geom_positions'],\n",
        "                                                  axis=0)  # combine the geom_positions_arr into (t, n, 3)\n",
        "total_kinematic_dict['joint_angles'] = np.array(total_kinematic_dict['joint_angles'])\n",
        "total_kinematic_dict['joint_velocities'] = np.array(total_kinematic_dict['joint_velocities'])\n",
        "total_kinematic_dict['actuator_forces'] = np.array(total_kinematic_dict['actuator_forces'])"
      ],
      "metadata": {
        "id": "N52-j9i1l7MW"
      },
      "execution_count": null,
      "outputs": []
    },
    {
      "cell_type": "code",
      "source": [
        "# #save kinematic data in a txt file. Can change to json by modifying the file extension\n",
        "# with open(\"kinematic_data.txt\", \"w\") as fp:\n",
        "#     fp.write(str(total_kinematic_dict))\n",
        "\n",
        "# #save the activation data in a txt file. Can change to json by modifying the file extension \n",
        "# with open(\"activation_data.txt\", \"w\") as fp:\n",
        "#     fp.write(str(loaded_hook_dict))"
      ],
      "metadata": {
        "id": "bG_opIinPqpX"
      },
      "execution_count": null,
      "outputs": []
    },
    {
      "cell_type": "code",
      "source": [
        "# # example 1: get the joint angles for the bthigh\n",
        "# bthigh_joint_angles = total_kinematic_dict['joint_angles'][:, joint_names_to_idx['bthigh']]\n",
        "\n",
        "# # example 2: get the geom positions for the torso\n",
        "# torso_geom_positions = total_kinematic_dict['geom_positions'][:, geom_names_to_idx['torso'], :]"
      ],
      "metadata": {
        "id": "3ZNgtB3Yl8eH"
      },
      "execution_count": null,
      "outputs": []
    },
    {
      "cell_type": "markdown",
      "source": [
        "TSNE over kinematic data"
      ],
      "metadata": {
        "id": "L-iv6w4wC4r3"
      }
    },
    {
      "cell_type": "code",
      "source": [
        "# from sklearn.manifold import TSNE\n",
        "\n",
        "# # plot data for geom_positions\n",
        "# x_3d = total_kinematic_dict['geom_positions']\n",
        "# y = geom_names_to_idx.keys()\n",
        "\n",
        "# # reshape data from 3d to 2d\n",
        "# nsamples, nx, ny = x_3d.shape\n",
        "# x = x_3d.reshape((nsamples,nx*ny))\n",
        "\n",
        "# tsne = TSNE(n_components=2)\n",
        "# z = tsne.fit_transform(x)"
      ],
      "metadata": {
        "id": "L56SO_gDQyyc"
      },
      "execution_count": null,
      "outputs": []
    },
    {
      "cell_type": "code",
      "source": [
        "# # plot data for joint_angles\n",
        "# x = total_kinematic_dict['joint_angles']\n",
        "# y = joint_names_to_idx.keys()\n",
        "\n",
        "# tsne = TSNE(n_components=2)\n",
        "# z = tsne.fit_transform(x)"
      ],
      "metadata": {
        "id": "zJeyDVw-C3jf"
      },
      "execution_count": null,
      "outputs": []
    },
    {
      "cell_type": "code",
      "source": [
        "# import pandas as pd\n",
        "# import seaborn as sns\n",
        "\n",
        "# %matplotlib inline\n",
        "\n",
        "# # df = pd.DataFrame()\n",
        "# # df[\"y\"] = y\n",
        "# # df[\"comp-1\"] = z[:,0]\n",
        "# # df[\"comp-2\"] = z[:,1]\n",
        "\n",
        "# sns.scatterplot(x=z[:,0], y=z[:,1], palette=sns.color_palette(\"hls\", 6)).set(title=\"Kinematic Geometric Positional data T-SNE projection\") "
      ],
      "metadata": {
        "id": "o_V8WywwJtQb"
      },
      "execution_count": null,
      "outputs": []
    },
    {
      "cell_type": "code",
      "source": [],
      "metadata": {
        "id": "aiU72-32Oujm"
      },
      "execution_count": null,
      "outputs": []
    },
    {
      "cell_type": "markdown",
      "source": [
        "## Example: Using PCA to visualize activations"
      ],
      "metadata": {
        "id": "0F4fZegfIi_s"
      }
    },
    {
      "cell_type": "code",
      "execution_count": null,
      "outputs": [],
      "source": [
        "# do pca on the activations\n",
        "pca_dict = {}\n",
        "for name, arr in loaded_hook_dict.items():\n",
        "    pca = PCA(n_components=2)\n",
        "    pca.fit(arr)\n",
        "    pca_dict[name] = pca"
      ],
      "metadata": {
        "pycharm": {
          "name": "#%%\n"
        },
        "id": "-pojGg6V-sra"
      }
    },
    {
      "cell_type": "code",
      "execution_count": null,
      "outputs": [],
      "source": [
        "#### optional: save + load the pca_dict\n",
        "# save_path = 'pca_dict.npy'\n",
        "# save_pca_dict(pca_dict, save_path)\n",
        "# loaded_pca_dict = load_pca_dict(save_path)"
      ],
      "metadata": {
        "pycharm": {
          "name": "#%%\n"
        },
        "id": "ygH8XD15-sra"
      }
    },
    {
      "cell_type": "code",
      "execution_count": null,
      "outputs": [],
      "source": [
        "# %matplotlib inline  # uncomment if you want to see the plots inline\n",
        "# plot the activations, and save the activations to a dictionary\n",
        "os.makedirs('activations', exist_ok=True)\n",
        "\n",
        "activations_dict = {}\n",
        "for name, pca in pca_dict.items():\n",
        "    # get activations\n",
        "    activations = get_activations(pca_dict=pca_dict, compiled_hook_dict=loaded_hook_dict, layer_name=name)\n",
        "\n",
        "    # save activations\n",
        "    activations_dict[name] = activations\n",
        "\n",
        "    # plot activations\n",
        "    save_path = 'activations/{}.png'.format(name)\n",
        "    fig_im = plot_activations(activations, layer_name=name, save_path=save_path, show=True)"
      ],
      "metadata": {
        "pycharm": {
          "name": "#%%\n"
        },
        "id": "3qO7HAp0-srb"
      }
    },
    {
      "cell_type": "markdown",
      "source": [
        "# CKA"
      ],
      "metadata": {
        "id": "22-09DrqCnK0"
      }
    },
    {
      "cell_type": "code",
      "source": [
        "def cka(X,Y):\n",
        "    # CKA formula from Kornblith et al.,(2019)\n",
        "\n",
        "    # making a copy prevents modifying original arrays\n",
        "    X = X.copy()\n",
        "    Y = Y.copy()\n",
        "\n",
        "    # center x and y first to do dot product\n",
        "    X -= X.mean(axis=0)\n",
        "    Y -= Y.mean(axis=0)\n",
        "\n",
        "    # dot products\n",
        "    x_xt = X.T.dot(X)\n",
        "    y_yt = Y.T.dot(Y)\n",
        "    x_yt = Y.T.dot(X)\n",
        "\n",
        "    # Frobenius norm = root of the sum of squares of the entries when X and Y are centered\n",
        "    return (x_yt**2).sum() / np.sqrt((x_xt**2).sum() * (y_yt**2).sum())\n",
        "    # return np.linalg.norm(x=x_yt, ord='fro') / (np.linalg.norm(x=x_xt, ord='fro') * np.linalg.norm(x=y_yt, ord='fro'))"
      ],
      "metadata": {
        "id": "gCFspurKcpP1"
      },
      "execution_count": 5,
      "outputs": []
    },
    {
      "cell_type": "code",
      "source": [
        "#part b\n",
        "figure_5b = {'activation' : [],\n",
        "'kinematic_feature' : [],\n",
        "'cka' : []}\n",
        "\n",
        "#part c\n",
        "figure_5c = {'activation_1' : [],\n",
        "'activation_2' : [],\n",
        "'cka' : []}\n",
        "\n",
        "# how to calculate cka between 2d and 3d vector?\n",
        "# does reshaping affect the calculation?"
      ],
      "metadata": {
        "id": "z_rXYYS2og-1"
      },
      "execution_count": 6,
      "outputs": []
    },
    {
      "cell_type": "code",
      "source": [
        "print(total_kinematic_dict.keys())\n",
        "print(loaded_hook_dict.keys())"
      ],
      "metadata": {
        "id": "ohtdN4VHBX8E",
        "colab": {
          "base_uri": "https://localhost:8080/"
        },
        "outputId": "21764b69-549d-454d-e0f2-5861f59af061"
      },
      "execution_count": null,
      "outputs": [
        {
          "output_type": "stream",
          "name": "stdout",
          "text": [
            "dict_keys(['geom_positions', 'joint_angles', 'joint_velocities', 'actuator_forces'])\n",
            "dict_keys(['linear1', 'linear2', 'mean_linear', 'log_std_linear'])\n"
          ]
        }
      ]
    },
    {
      "cell_type": "code",
      "source": [
        "# nested loop through each combination and add to the dictionary\n",
        "# if its geom_positions, reshape it from 3d to 2d\n",
        "\n",
        "# get combinations between kinematics and activations\n",
        "for feat in total_kinematic_dict.keys():\n",
        "  for activation in loaded_hook_dict.keys():\n",
        "    if feat == 'geom_positions':\n",
        "      x_3d = total_kinematic_dict[feat]\n",
        "      nsamples, nx, ny = x_3d.shape\n",
        "      x = x_3d.reshape((nsamples,nx*ny))\n",
        "      cka_calc = cka(loaded_hook_dict[activation], x)\n",
        "\n",
        "      figure_5b['activation'].append(activation)\n",
        "      figure_5b['kinematic_feature'].append(feat)\n",
        "      figure_5b['cka'].append(cka_calc)\n",
        "    else:\n",
        "      cka_calc = cka(loaded_hook_dict[activation], total_kinematic_dict[feat])\n",
        "\n",
        "      figure_5b['activation'].append(activation)\n",
        "      figure_5b['kinematic_feature'].append(feat)\n",
        "      figure_5b['cka'].append(cka_calc)\n",
        "\n",
        "\n",
        "# get combinations between activations\n",
        "for activation1 in loaded_hook_dict.keys():\n",
        "  for activation2 in loaded_hook_dict.keys():\n",
        "    cka_calc = cka(loaded_hook_dict[activation1], loaded_hook_dict[activation2])\n",
        "    if activation1 == activation2:\n",
        "      cka_calc = 1\n",
        "    figure_5c['cka'].append(cka_calc)\n",
        "    figure_5c['activation_1'].append(activation1)\n",
        "    figure_5c['activation_2'].append(activation2)"
      ],
      "metadata": {
        "id": "ektd9k5lCD67",
        "colab": {
          "base_uri": "https://localhost:8080/"
        },
        "outputId": "5407c990-32cf-46a7-8a14-4581342774df"
      },
      "execution_count": 9,
      "outputs": [
        {
          "output_type": "stream",
          "name": "stderr",
          "text": [
            "<ipython-input-5-979c271b323a>:18: RuntimeWarning: overflow encountered in float_scalars\n",
            "  return (x_yt**2).sum() / np.sqrt((x_xt**2).sum() * (y_yt**2).sum())\n"
          ]
        }
      ]
    },
    {
      "cell_type": "code",
      "source": [
        "%matplotlib inline\n",
        "\n",
        "df_b = pd.DataFrame(figure_5b).drop_duplicates().pivot('kinematic_feature', 'activation', 'cka')\n",
        "sns.heatmap(df_b, cbar_kws={'label':'Feature encoding (CKA)'}, cmap=\"Blues\")\n",
        "\n",
        "# converted geom_positions to 2d data instead of the original 3d"
      ],
      "metadata": {
        "id": "BIalXBcVCsQt",
        "colab": {
          "base_uri": "https://localhost:8080/",
          "height": 298
        },
        "outputId": "f7c0598c-394f-4b14-8518-6091c1c31cb6"
      },
      "execution_count": 10,
      "outputs": [
        {
          "output_type": "execute_result",
          "data": {
            "text/plain": [
              "<matplotlib.axes._subplots.AxesSubplot at 0x7f5674d7fb80>"
            ]
          },
          "metadata": {},
          "execution_count": 10
        },
        {
          "output_type": "display_data",
          "data": {
            "text/plain": [
              "<Figure size 432x288 with 2 Axes>"
            ],
            "image/png": "[encoded data removed]"
          },
          "metadata": {
            "needs_background": "light"
          }
        }
      ]
    },
    {
      "cell_type": "code",
      "source": [
        "%matplotlib inline\n",
        "\n",
        "df_c = pd.DataFrame(figure_5c).pivot('activation_1', 'activation_2', 'cka')\n",
        "sns.heatmap(df_c, cbar_kws={'label':'Representational similarity (CKA)'}, cmap=\"Blues\")"
      ],
      "metadata": {
        "id": "Nbfui6Luy1Is",
        "colab": {
          "base_uri": "https://localhost:8080/",
          "height": 303
        },
        "outputId": "bf762114-df52-407f-f40c-3d4d31d78aee"
      },
      "execution_count": 11,
      "outputs": [
        {
          "output_type": "execute_result",
          "data": {
            "text/plain": [
              "<matplotlib.axes._subplots.AxesSubplot at 0x7f5662ff84c0>"
            ]
          },
          "metadata": {},
          "execution_count": 11
        },
        {
          "output_type": "display_data",
          "data": {
            "text/plain": [
              "<Figure size 432x288 with 2 Axes>"
            ],
            "image/png": "[encoded data removed]"
          },
          "metadata": {
            "needs_background": "light"
          }
        }
      ]
    },
    {
      "cell_type": "markdown",
      "source": [
        "A:\n",
        "\n",
        "divide into 50 clusters through k-means and get the average vector then get similarity through the dot product within each cluster\n",
        "\n",
        "try to follow the steps described in the appendix for 4a\n",
        "\n",
        "get mean vector for each cluster then dot product that with the original data?\n",
        "\n",
        "we have 50 clusters and want to get the mean vector for each of them. After that we find the similarity through the dot product between every combination of the 50? Try getting an array of all the mean population vectors then plugging that into the rsatoolbox\n",
        "\n",
        "%matplotlib inline\n",
        "\n",
        "import numpy, rsatoolbox\n",
        "data = rsatoolbox.data.Dataset(loaded_hook_dict['linear1'][:100])\n",
        "rdms = rsatoolbox.rdm.calc_rdm(data)\n",
        "rsatoolbox.vis.show_rdm(rdms)"
      ],
      "metadata": {
        "id": "sodAgM9Q2hrX"
      }
    },
    {
      "cell_type": "code",
      "source": [
        "kmeans = KMeans(n_clusters=50, random_state=0).fit(total_kinematic_dict['actuator_forces'])"
      ],
      "metadata": {
        "id": "6dVs3G9Rwkar"
      },
      "execution_count": 12,
      "outputs": []
    },
    {
      "cell_type": "code",
      "source": [
        "kmeans.labels_"
      ],
      "metadata": {
        "id": "GM5sj7q1w1Uu",
        "colab": {
          "base_uri": "https://localhost:8080/"
        },
        "outputId": "b5ba18ae-599b-4e34-985c-f42ca3abb863"
      },
      "execution_count": 13,
      "outputs": [
        {
          "output_type": "execute_result",
          "data": {
            "text/plain": [
              "array([18, 18, 18, ..., 10, 38, 40], dtype=int32)"
            ]
          },
          "metadata": {},
          "execution_count": 13
        }
      ]
    },
    {
      "cell_type": "code",
      "source": [
        "def cluster_mean(behavior):\n",
        "  kmeans = KMeans(n_clusters=50, random_state=0).fit(total_kinematic_dict[behavior])\n",
        "  df = pd.DataFrame(total_kinematic_dict[behavior])\n",
        "  df['cluster_label'] = pd.Series(kmeans.labels_)\n",
        "  \n",
        "  mean_vec = df.groupby('cluster_label').mean()\n",
        "  cluster_lst = []\n",
        "  for i in range(50):\n",
        "    cluster_lst.append(mean_vec.iloc[i].values)\n",
        "  cluster_arr = np.array(cluster_lst)\n",
        "  return cluster_arr"
      ],
      "metadata": {
        "id": "ZpjRxrQx5wKq"
      },
      "execution_count": 14,
      "outputs": []
    },
    {
      "cell_type": "code",
      "source": [
        "%matplotlib inline\n",
        "import numpy, rsatoolbox\n",
        "\n",
        "def plot_5a(activation,kinematic):\n",
        "    kmeans = KMeans(n_clusters=50, random_state=0).fit(total_kinematic_dict[kinematic])\n",
        "    df = pd.DataFrame(total_kinematic_dict[kinematic])\n",
        "    df['cluster_label'] = pd.Series(kmeans.labels_)\n",
        "\n",
        "    all_calcs = []\n",
        "    b = loaded_hook_dict[activation]\n",
        "\n",
        "    for i in range(50):\n",
        "      a = df[df['cluster_label']==i].drop(['cluster_label'], axis=1).values\n",
        "      c = list(np.dot(a,b.T))\n",
        "      all_calcs += c\n",
        "\n",
        "    out = np.array(all_calcs)\n",
        "    data = rsatoolbox.data.Dataset(out)\n",
        "    rdms = rsatoolbox.rdm.calc_rdm(data)\n",
        "    rsatoolbox.vis.show_rdm(rdms, rdm_descriptor='title', show_colorbar='panel', figsize=(8,8))"
      ],
      "metadata": {
        "id": "aqrAy4EUV_Eh"
      },
      "execution_count": 15,
      "outputs": []
    },
    {
      "cell_type": "code",
      "source": [
        "# plot_5a('mean_linear', 'joint_velocities')"
      ],
      "metadata": {
        "id": "Dk2xOcn6Wuen"
      },
      "execution_count": 16,
      "outputs": []
    },
    {
      "cell_type": "code",
      "source": [
        "  kmeans = KMeans(n_clusters=50, random_state=0).fit(total_kinematic_dict['actuator_forces'])\n",
        "  df = pd.DataFrame(total_kinematic_dict['actuator_forces'])\n",
        "  df['cluster_label'] = pd.Series(kmeans.labels_)"
      ],
      "metadata": {
        "id": "HT_k4YSHCPca"
      },
      "execution_count": 17,
      "outputs": []
    },
    {
      "cell_type": "code",
      "source": [
        "df"
      ],
      "metadata": {
        "id": "mFw1A26WCYZM",
        "colab": {
          "base_uri": "https://localhost:8080/",
          "height": 424
        },
        "outputId": "d7c865f0-ec0c-4d67-cf20-2ed7d28cc447"
      },
      "execution_count": 18,
      "outputs": [
        {
          "output_type": "execute_result",
          "data": {
            "text/plain": [
              "              0         1         2         3         4         5  \\\n",
              "0      0.962013  0.631870  0.999076  0.971095  0.998166  0.971485   \n",
              "1      0.965244  0.551171  0.989854  0.938948  0.975358  0.952127   \n",
              "2      0.997088  0.322076  0.989044  0.997828  0.944490  0.974746   \n",
              "3      0.817875  0.863355  0.993402  0.950231  0.993685  0.935596   \n",
              "4     -0.976898  0.473999 -0.941880  0.888192  0.998493  0.807908   \n",
              "...         ...       ...       ...       ...       ...       ...   \n",
              "41995 -0.278772 -0.963125 -0.948431  0.700497  0.440761  0.544170   \n",
              "41996 -0.524206  0.580085 -0.991409  0.798113  0.966316  0.093044   \n",
              "41997  0.788512 -0.867441 -0.367085  0.818383  0.818036 -0.339185   \n",
              "41998  0.712226  0.603181 -0.880773 -0.179189  0.870130  0.265230   \n",
              "41999  0.756871  0.659003 -0.612705  0.338788 -0.175817 -0.818479   \n",
              "\n",
              "       cluster_label  \n",
              "0                 18  \n",
              "1                 18  \n",
              "2                 18  \n",
              "3                 18  \n",
              "4                 45  \n",
              "...              ...  \n",
              "41995             28  \n",
              "41996             45  \n",
              "41997             10  \n",
              "41998             38  \n",
              "41999             40  \n",
              "\n",
              "[42000 rows x 7 columns]"
            ],
            "text/html": [
              "\n",
              "  <div id=\"df-f5dd3e62-99d7-458b-a041-89cd026d5c76\">\n",
              "    <div class=\"colab-df-container\">\n",
              "      <div>\n",
              "<style scoped>\n",
              "    .dataframe tbody tr th:only-of-type {\n",
              "        vertical-align: middle;\n",
              "    }\n",
              "\n",
              "    .dataframe tbody tr th {\n",
              "        vertical-align: top;\n",
              "    }\n",
              "\n",
              "    .dataframe thead th {\n",
              "        text-align: right;\n",
              "    }\n",
              "</style>\n",
              "<table border=\"1\" class=\"dataframe\">\n",
              "  <thead>\n",
              "    <tr style=\"text-align: right;\">\n",
              "      <th></th>\n",
              "      <th>0</th>\n",
              "      <th>1</th>\n",
              "      <th>2</th>\n",
              "      <th>3</th>\n",
              "      <th>4</th>\n",
              "      <th>5</th>\n",
              "      <th>cluster_label</th>\n",
              "    </tr>\n",
              "  </thead>\n",
              "  <tbody>\n",
              "    <tr>\n",
              "      <th>0</th>\n",
              "      <td>0.962013</td>\n",
              "      <td>0.631870</td>\n",
              "      <td>0.999076</td>\n",
              "      <td>0.971095</td>\n",
              "      <td>0.998166</td>\n",
              "      <td>0.971485</td>\n",
              "      <td>18</td>\n",
              "    </tr>\n",
              "    <tr>\n",
              "      <th>1</th>\n",
              "      <td>0.965244</td>\n",
              "      <td>0.551171</td>\n",
              "      <td>0.989854</td>\n",
              "      <td>0.938948</td>\n",
              "      <td>0.975358</td>\n",
              "      <td>0.952127</td>\n",
              "      <td>18</td>\n",
              "    </tr>\n",
              "    <tr>\n",
              "      <th>2</th>\n",
              "      <td>0.997088</td>\n",
              "      <td>0.322076</td>\n",
              "      <td>0.989044</td>\n",
              "      <td>0.997828</td>\n",
              "      <td>0.944490</td>\n",
              "      <td>0.974746</td>\n",
              "      <td>18</td>\n",
              "    </tr>\n",
              "    <tr>\n",
              "      <th>3</th>\n",
              "      <td>0.817875</td>\n",
              "      <td>0.863355</td>\n",
              "      <td>0.993402</td>\n",
              "      <td>0.950231</td>\n",
              "      <td>0.993685</td>\n",
              "      <td>0.935596</td>\n",
              "      <td>18</td>\n",
              "    </tr>\n",
              "    <tr>\n",
              "      <th>4</th>\n",
              "      <td>-0.976898</td>\n",
              "      <td>0.473999</td>\n",
              "      <td>-0.941880</td>\n",
              "      <td>0.888192</td>\n",
              "      <td>0.998493</td>\n",
              "      <td>0.807908</td>\n",
              "      <td>45</td>\n",
              "    </tr>\n",
              "    <tr>\n",
              "      <th>...</th>\n",
              "      <td>...</td>\n",
              "      <td>...</td>\n",
              "      <td>...</td>\n",
              "      <td>...</td>\n",
              "      <td>...</td>\n",
              "      <td>...</td>\n",
              "      <td>...</td>\n",
              "    </tr>\n",
              "    <tr>\n",
              "      <th>41995</th>\n",
              "      <td>-0.278772</td>\n",
              "      <td>-0.963125</td>\n",
              "      <td>-0.948431</td>\n",
              "      <td>0.700497</td>\n",
              "      <td>0.440761</td>\n",
              "      <td>0.544170</td>\n",
              "      <td>28</td>\n",
              "    </tr>\n",
              "    <tr>\n",
              "      <th>41996</th>\n",
              "      <td>-0.524206</td>\n",
              "      <td>0.580085</td>\n",
              "      <td>-0.991409</td>\n",
              "      <td>0.798113</td>\n",
              "      <td>0.966316</td>\n",
              "      <td>0.093044</td>\n",
              "      <td>45</td>\n",
              "    </tr>\n",
              "    <tr>\n",
              "      <th>41997</th>\n",
              "      <td>0.788512</td>\n",
              "      <td>-0.867441</td>\n",
              "      <td>-0.367085</td>\n",
              "      <td>0.818383</td>\n",
              "      <td>0.818036</td>\n",
              "      <td>-0.339185</td>\n",
              "      <td>10</td>\n",
              "    </tr>\n",
              "    <tr>\n",
              "      <th>41998</th>\n",
              "      <td>0.712226</td>\n",
              "      <td>0.603181</td>\n",
              "      <td>-0.880773</td>\n",
              "      <td>-0.179189</td>\n",
              "      <td>0.870130</td>\n",
              "      <td>0.265230</td>\n",
              "      <td>38</td>\n",
              "    </tr>\n",
              "    <tr>\n",
              "      <th>41999</th>\n",
              "      <td>0.756871</td>\n",
              "      <td>0.659003</td>\n",
              "      <td>-0.612705</td>\n",
              "      <td>0.338788</td>\n",
              "      <td>-0.175817</td>\n",
              "      <td>-0.818479</td>\n",
              "      <td>40</td>\n",
              "    </tr>\n",
              "  </tbody>\n",
              "</table>\n",
              "<p>42000 rows × 7 columns</p>\n",
              "</div>\n",
              "      <button class=\"colab-df-convert\" onclick=\"convertToInteractive('df-f5dd3e62-99d7-458b-a041-89cd026d5c76')\"\n",
              "              title=\"Convert this dataframe to an interactive table.\"\n",
              "              style=\"display:none;\">\n",
              "        \n",
              "  <svg xmlns=\"http://www.w3.org/2000/svg\" height=\"24px\"viewBox=\"0 0 24 24\"\n",
              "       width=\"24px\">\n",
              "    <path d=\"M0 0h24v24H0V0z\" fill=\"none\"/>\n",
              "    <path d=\"M18.56 5.44l.94 2.06.94-2.06 2.06-.94-2.06-.94-.94-2.06-.94 2.06-2.06.94zm-11 1L8.5 8.5l.94-2.06 2.06-.94-2.06-.94L8.5 2.5l-.94 2.06-2.06.94zm10 10l.94 2.06.94-2.06 2.06-.94-2.06-.94-.94-2.06-.94 2.06-2.06.94z\"/><path d=\"M17.41 7.96l-1.37-1.37c-.4-.4-.92-.59-1.43-.59-.52 0-1.04.2-1.43.59L10.3 9.45l-7.72 7.72c-.78.78-.78 2.05 0 2.83L4 21.41c.39.39.9.59 1.41.59.51 0 1.02-.2 1.41-.59l7.78-7.78 2.81-2.81c.8-.78.8-2.07 0-2.86zM5.41 20L4 18.59l7.72-7.72 1.47 1.35L5.41 20z\"/>\n",
              "  </svg>\n",
              "      </button>\n",
              "      \n",
              "  <style>\n",
              "    .colab-df-container {\n",
              "      display:flex;\n",
              "      flex-wrap:wrap;\n",
              "      gap: 12px;\n",
              "    }\n",
              "\n",
              "    .colab-df-convert {\n",
              "      background-color: #E8F0FE;\n",
              "      border: none;\n",
              "      border-radius: 50%;\n",
              "      cursor: pointer;\n",
              "      display: none;\n",
              "      fill: #1967D2;\n",
              "      height: 32px;\n",
              "      padding: 0 0 0 0;\n",
              "      width: 32px;\n",
              "    }\n",
              "\n",
              "    .colab-df-convert:hover {\n",
              "      background-color: #E2EBFA;\n",
              "      box-shadow: 0px 1px 2px rgba(60, 64, 67, 0.3), 0px 1px 3px 1px rgba(60, 64, 67, 0.15);\n",
              "      fill: #174EA6;\n",
              "    }\n",
              "\n",
              "    [theme=dark] .colab-df-convert {\n",
              "      background-color: #3B4455;\n",
              "      fill: #D2E3FC;\n",
              "    }\n",
              "\n",
              "    [theme=dark] .colab-df-convert:hover {\n",
              "      background-color: #434B5C;\n",
              "      box-shadow: 0px 1px 3px 1px rgba(0, 0, 0, 0.15);\n",
              "      filter: drop-shadow(0px 1px 2px rgba(0, 0, 0, 0.3));\n",
              "      fill: #FFFFFF;\n",
              "    }\n",
              "  </style>\n",
              "\n",
              "      <script>\n",
              "        const buttonEl =\n",
              "          document.querySelector('#df-f5dd3e62-99d7-458b-a041-89cd026d5c76 button.colab-df-convert');\n",
              "        buttonEl.style.display =\n",
              "          google.colab.kernel.accessAllowed ? 'block' : 'none';\n",
              "\n",
              "        async function convertToInteractive(key) {\n",
              "          const element = document.querySelector('#df-f5dd3e62-99d7-458b-a041-89cd026d5c76');\n",
              "          const dataTable =\n",
              "            await google.colab.kernel.invokeFunction('convertToInteractive',\n",
              "                                                     [key], {});\n",
              "          if (!dataTable) return;\n",
              "\n",
              "          const docLinkHtml = 'Like what you see? Visit the ' +\n",
              "            '<a target=\"_blank\" href=https://colab.research.google.com/notebooks/data_table.ipynb>data table notebook</a>'\n",
              "            + ' to learn more about interactive tables.';\n",
              "          element.innerHTML = '';\n",
              "          dataTable['output_type'] = 'display_data';\n",
              "          await google.colab.output.renderOutput(dataTable, element);\n",
              "          const docLink = document.createElement('div');\n",
              "          docLink.innerHTML = docLinkHtml;\n",
              "          element.appendChild(docLink);\n",
              "        }\n",
              "      </script>\n",
              "    </div>\n",
              "  </div>\n",
              "  "
            ]
          },
          "metadata": {},
          "execution_count": 18
        }
      ]
    },
    {
      "cell_type": "code",
      "source": [
        "all_calcs = []\n",
        "b = loaded_hook_dict['mean_linear']\n",
        "\n",
        "for i in range(50):\n",
        "  a = df[df['cluster_label']==i].drop(['cluster_label'], axis=1).values\n",
        "  c = list(np.dot(a,b.T))\n",
        "  all_calcs += c\n",
        "\n",
        "out = np.array(all_calcs)"
      ],
      "metadata": {
        "id": "MoFXro06O5KU"
      },
      "execution_count": null,
      "outputs": []
    },
    {
      "cell_type": "code",
      "source": [
        "out"
      ],
      "metadata": {
        "id": "_s_59O3NPmyI"
      },
      "execution_count": null,
      "outputs": []
    },
    {
      "cell_type": "code",
      "source": [
        "# FINAL GRAPH?\n",
        "\n",
        "%matplotlib inline\n",
        "\n",
        "import numpy, rsatoolbox\n",
        "data = rsatoolbox.data.Dataset(out)\n",
        "rdms = rsatoolbox.rdm.calc_rdm(data)\n",
        "rsatoolbox.vis.show_rdm(rdms, rdm_descriptor='mean_linear vs. actuator_forces', show_colorbar='panel', figsize=(8,8))"
      ],
      "metadata": {
        "id": "03MzSiaEOF1D"
      },
      "execution_count": null,
      "outputs": []
    },
    {
      "cell_type": "code",
      "source": [
        "df.groupby('cluster_label').mean().loc[0].values"
      ],
      "metadata": {
        "id": "4TSNM7XZGKRB",
        "colab": {
          "base_uri": "https://localhost:8080/"
        },
        "outputId": "7bde85ed-3a1e-41af-a70a-6f04ad1df81b"
      },
      "execution_count": null,
      "outputs": [
        {
          "output_type": "execute_result",
          "data": {
            "text/plain": [
              "array([ 0.72087176, -0.33247847,  0.75809966, -0.71848241, -0.76026754,\n",
              "        0.14447511])"
            ]
          },
          "metadata": {},
          "execution_count": 37
        }
      ]
    },
    {
      "cell_type": "code",
      "source": [
        "# 50x6 array.  policy is 42000x256\n",
        "joint_means = cluster_mean('joint_angles')"
      ],
      "metadata": {
        "id": "2JgJ9pxY6cPu"
      },
      "execution_count": null,
      "outputs": []
    },
    {
      "cell_type": "code",
      "source": [
        "loaded_hook_dict.keys()"
      ],
      "metadata": {
        "id": "VI7ShK3hBNTp",
        "colab": {
          "base_uri": "https://localhost:8080/"
        },
        "outputId": "7a63ecbe-d0d6-4dce-fbe9-6080d9e0ce62"
      },
      "execution_count": null,
      "outputs": [
        {
          "output_type": "execute_result",
          "data": {
            "text/plain": [
              "dict_keys(['linear1', 'linear2', 'mean_linear', 'log_std_linear'])"
            ]
          },
          "metadata": {},
          "execution_count": 39
        }
      ]
    },
    {
      "cell_type": "code",
      "source": [
        "len(loaded_hook_dict['mean_linear'][0])"
      ],
      "metadata": {
        "id": "aPfeAww172nV",
        "colab": {
          "base_uri": "https://localhost:8080/"
        },
        "outputId": "753764a4-0110-42a2-8d34-351bc2695af6"
      },
      "execution_count": null,
      "outputs": [
        {
          "output_type": "execute_result",
          "data": {
            "text/plain": [
              "6"
            ]
          },
          "metadata": {},
          "execution_count": 40
        }
      ]
    },
    {
      "cell_type": "code",
      "source": [
        "# cka(loaded_hook_dict['mean_linear'].T, df[df['cluster_label'] == 1].drop(['cluster_label'], axis=1).values.T)\n",
        "cka(loaded_hook_dict['mean_linear'].T, df.groupby('cluster_label').mean().loc[0].values)"
      ],
      "metadata": {
        "id": "ar2clhGL9sF2",
        "colab": {
          "base_uri": "https://localhost:8080/"
        },
        "outputId": "8de12f70-c56b-4463-bf74-fbc26308cd4d"
      },
      "execution_count": null,
      "outputs": [
        {
          "output_type": "execute_result",
          "data": {
            "text/plain": [
              "0.5307534954333901"
            ]
          },
          "metadata": {},
          "execution_count": 41
        }
      ]
    },
    {
      "cell_type": "markdown",
      "source": [
        "(A) Example similarity matrices\n",
        "of neural networks and behavioral descriptors. We grouped behavioral descriptors into 50 clusters\n",
        "that and we computed the average neural population vector during each cluster (AppendixA.4).\n",
        "Similarity was assessed by computing the dot product of either the neural population vector or the\n",
        "behavioral feature vector within each cluster."
      ],
      "metadata": {
        "id": "lkTW9u303eLC"
      }
    },
    {
      "cell_type": "code",
      "source": [
        "kmeanss = KMeans(n_clusters=50, random_state=0).fit(total_kinematic_dict['actuator_forces'])\n",
        "  dff = pd.DataFrame(total_kinematic_dict['actuator_forces'])\n",
        "  dff['cluster_label'] = pd.Series(kmeanss.labels_)"
      ],
      "metadata": {
        "id": "C6nilGJ2OkST"
      },
      "execution_count": null,
      "outputs": []
    },
    {
      "cell_type": "code",
      "source": [
        "all_calcs = []\n",
        "b = total_kinematic_dict['actuator_forces']\n",
        "\n",
        "for i in range(50):\n",
        "  a = df[df['cluster_label']==i].drop(['cluster_label'], axis=1).values\n",
        "  c = list(np.dot(a,b.T))\n",
        "  all_calcs += c\n",
        "\n",
        "outt = np.array(all_calcs)"
      ],
      "metadata": {
        "id": "_hc2itdrO3Tq"
      },
      "execution_count": null,
      "outputs": []
    },
    {
      "cell_type": "code",
      "source": [
        "%matplotlib inline\n",
        "\n",
        "import numpy, rsatoolbox\n",
        "data = rsatoolbox.data.Dataset(outt)\n",
        "rdms = rsatoolbox.rdm.calc_rdm(data)\n",
        "rsatoolbox.vis.show_rdm(rdms, rdm_descriptor='title', show_colorbar='panel', figsize=(8,8))"
      ],
      "metadata": {
        "id": "ztJPUvjr7RiY",
        "colab": {
          "base_uri": "https://localhost:8080/",
          "height": 509
        },
        "outputId": "d88d9db3-0f65-431b-c64e-58ebf43d0799"
      },
      "execution_count": null,
      "outputs": [
        {
          "output_type": "execute_result",
          "data": {
            "text/plain": [
              "(<Figure size 576x576 with 2 Axes>,\n",
              " array([[<matplotlib.axes._subplots.AxesSubplot object at 0x7fa86ee0e790>]],\n",
              "       dtype=object),\n",
              " defaultdict(dict,\n",
              "             {<matplotlib.axes._subplots.AxesSubplot at 0x7fa86ee0e790>: {'image': <matplotlib.image.AxesImage at 0x7fa86ef8c7f0>,\n",
              "               'colorbar': <matplotlib.colorbar.Colorbar at 0x7fa8625cab50>}}))"
            ]
          },
          "metadata": {},
          "execution_count": 55
        },
        {
          "output_type": "display_data",
          "data": {
            "text/plain": [
              "<Figure size 576x576 with 2 Axes>"
            ],
            "image/png": "[encoded data removed]"
          },
          "metadata": {
            "needs_background": "light"
          }
        }
      ]
    },
    {
      "cell_type": "markdown",
      "source": [
        "do i dot product the thing it itself? or kmeans cluster it"
      ],
      "metadata": {
        "id": "g-OPuuFlORIc"
      }
    },
    {
      "cell_type": "code",
      "source": [
        "%matplotlib inline\n",
        "\n",
        "import numpy, rsatoolbox\n",
        "data = rsatoolbox.data.Dataset(loaded_hook_dict['linear1'][:100])\n",
        "rdms = rsatoolbox.rdm.calc_rdm(data)\n",
        "rsatoolbox.vis.show_rdm(rdms, rdm_descriptor='title', show_colorbar='panel', figsize=(8,8))"
      ],
      "metadata": {
        "id": "OrKnEWDCHV4F",
        "colab": {
          "base_uri": "https://localhost:8080/",
          "height": 509
        },
        "outputId": "d2c23991-3900-4ad4-cbc3-7754b621ea96"
      },
      "execution_count": null,
      "outputs": [
        {
          "output_type": "execute_result",
          "data": {
            "text/plain": [
              "(<Figure size 576x576 with 2 Axes>,\n",
              " array([[<matplotlib.axes._subplots.AxesSubplot object at 0x7fa88b2c1760>]],\n",
              "       dtype=object),\n",
              " defaultdict(dict,\n",
              "             {<matplotlib.axes._subplots.AxesSubplot at 0x7fa88b2c1760>: {'image': <matplotlib.image.AxesImage at 0x7fa88b0ebc10>,\n",
              "               'colorbar': <matplotlib.colorbar.Colorbar at 0x7fa8896140a0>}}))"
            ]
          },
          "metadata": {},
          "execution_count": 43
        },
        {
          "output_type": "display_data",
          "data": {
            "text/plain": [
              "<Figure size 576x576 with 2 Axes>"
            ],
            "image/png": "[encoded data removed]"
          },
          "metadata": {
            "needs_background": "light"
          }
        }
      ]
    },
    {
      "cell_type": "code",
      "source": [
        "# ideas\n",
        "# divide into 50 clusters\n",
        "# get dot product between the kinematic and activation"
      ],
      "metadata": {
        "id": "N9E4bVbsJXdx"
      },
      "execution_count": null,
      "outputs": []
    },
    {
      "cell_type": "code",
      "source": [
        "# linear1 vs actuator force\n",
        "\n"
      ],
      "metadata": {
        "id": "tDoMeEXcDl7A"
      },
      "execution_count": null,
      "outputs": []
    },
    {
      "cell_type": "markdown",
      "source": [
        "TSNE implementation"
      ],
      "metadata": {
        "id": "DTikFYX_0Dy7"
      }
    },
    {
      "cell_type": "code",
      "source": [
        "stop here"
      ],
      "metadata": {
        "id": "0Wd__aOGvJ3q",
        "colab": {
          "base_uri": "https://localhost:8080/",
          "height": 133
        },
        "outputId": "a613401f-ecf2-482e-f30b-5f737dbe4c73"
      },
      "execution_count": null,
      "outputs": [
        {
          "output_type": "error",
          "ename": "SyntaxError",
          "evalue": "ignored",
          "traceback": [
            "\u001b[0;36m  File \u001b[0;32m\"<ipython-input-46-a96ba3aab008>\"\u001b[0;36m, line \u001b[0;32m1\u001b[0m\n\u001b[0;31m    stop here\u001b[0m\n\u001b[0m         ^\u001b[0m\n\u001b[0;31mSyntaxError\u001b[0m\u001b[0;31m:\u001b[0m invalid syntax\n"
          ]
        }
      ]
    },
    {
      "cell_type": "code",
      "source": [
        "# from sklearn.manifold import TSNE\n",
        "\n",
        "# tsne_dict = {}\n",
        "# for name, arr in loaded_hook_dict.items():\n",
        "#     tsne = TSNE(n_components=2)\n",
        "#     tsne.fit(arr)\n",
        "#     # or fit_transform\n",
        "#     tsne_dict[name] = tsne"
      ],
      "metadata": {
        "id": "nv2C7ezCzkR9"
      },
      "execution_count": null,
      "outputs": []
    },
    {
      "cell_type": "code",
      "source": [
        "# def get_activations_tsne(pca_dict, compiled_hook_dict, layer_name, num_components=2):\n",
        "#     # get the activations\n",
        "#     activations = compiled_hook_dict[layer_name]\n",
        "#     # get the pca\n",
        "#     pca = pca_dict[layer_name]\n",
        "#     # get the transformed activations\n",
        "#     transformed_activations = pca.fit_transform(activations)\n",
        "#     return pca"
      ],
      "metadata": {
        "id": "8x6UZj1H7wbh"
      },
      "execution_count": null,
      "outputs": []
    },
    {
      "cell_type": "code",
      "source": [
        "tsne_dict"
      ],
      "metadata": {
        "id": "sobGqpiBFUN4"
      },
      "execution_count": null,
      "outputs": []
    },
    {
      "cell_type": "code",
      "source": [
        "# # %matplotlib inline  # uncomment if you want to see the plots inline\n",
        "# # plot the activations, and save the activations to a dictionary\n",
        "# os.makedirs('activations_tsne', exist_ok=True)\n",
        "\n",
        "# activations_dict = {}\n",
        "# for name, pca in pca_dict.items():\n",
        "#     # get activations\n",
        "#     activations = get_activations_tsne(pca_dict=tsne_dict, compiled_hook_dict=loaded_hook_dict, layer_name=name)\n",
        "\n",
        "#     # save activations\n",
        "#     activations_dict[name] = activations\n",
        "\n",
        "#     # plot activations\n",
        "#     save_path = 'activations_tsne/{}.png'.format(name)\n",
        "#     fig_im = plot_activations(activations, layer_name=name, save_path=save_path, show=True)"
      ],
      "metadata": {
        "id": "DH_J8Sp9zpz8"
      },
      "execution_count": null,
      "outputs": []
    },
    {
      "cell_type": "markdown",
      "source": [
        "## Example: Using Power Spectral Density to visualize activations"
      ],
      "metadata": {
        "id": "3Q4pAgVgmC48"
      }
    },
    {
      "cell_type": "code",
      "source": [
        "# filter the activations_dict to only include the layers we want\n",
        "layers_to_include = ['linear1', 'linear2']\n",
        "\n",
        "# get the activations for the layers we want\n",
        "filtered_activations = {k: v for k, v in loaded_hook_dict.items() if k in layers_to_include}\n",
        "\n",
        "# split the activations by the number of episodes collected (assumes all episodes have the same number of steps)\n",
        "# get the number of steps per episode\n",
        "num_steps_per_episode = activations_dict['linear1'].shape[0] // num_episodes_to_run"
      ],
      "metadata": {
        "id": "DaxCHrzymCqv"
      },
      "execution_count": null,
      "outputs": []
    },
    {
      "cell_type": "code",
      "source": [
        "# get the power spectral density of the pca of the activations\n",
        "os.makedirs('psd', exist_ok=True)\n",
        "\n",
        "k = 10\n",
        "psd_trajectory_dict = {}\n",
        "for name, activations in filtered_activations.items():\n",
        "    # get the pca of the activations to k dimensions\n",
        "    pca = PCA(n_components=k)\n",
        "    pca.fit(activations)\n",
        "    activations_pca = pca.transform(activations)  # (num_episodes_to_run * num_steps_per_episode, k)\n",
        "\n",
        "    activations_reshaped = activations_pca.reshape(num_episodes_to_run, num_steps_per_episode, -1)  # (episodes, steps, k)\n",
        "    f, psd = scipy.signal.welch(activations_reshaped, fs=50, nperseg=500, noverlap=250, axis=-2)\n",
        "\n",
        "    psd_pca = np.average(psd, axis=-1, weights=pca.explained_variance_ratio_)  # (episodes, steps)\n",
        "    psd_trajectory = np.mean(psd_pca, axis=0)  # (steps,)\n",
        "\n",
        "    psd_trajectory_dict[name] = psd_trajectory\n",
        "\n",
        "    # make a plot of the power spectral density\n",
        "    fig, ax = plt.subplots()\n",
        "    ax.semilogy(f, psd_trajectory)\n",
        "    ax.set_title(name)\n",
        "    ax.set_xlabel('frequency [Hz]')\n",
        "    ax.set_ylabel('PSD [V**2/Hz]')\n",
        "    # set x scale to log\n",
        "    ax.set_xscale('log')\n",
        "\n",
        "    save_path = 'psd/{}.png'.format(name)\n",
        "    # save_path = None\n",
        "    fig_im = fig2img(fig)\n",
        "    if save_path is not None:\n",
        "        fig_im.save(save_path)\n",
        "\n",
        "# make a plot of the power spectral density of all the layers from psd_trajectory_dict\n",
        "fig, ax = plt.subplots()\n",
        "for name, psd_trajectory in psd_trajectory_dict.items():\n",
        "    ax.semilogy(f, psd_trajectory, label=name)\n",
        "ax.set_title('All layers')\n",
        "ax.set_xlabel('frequency [Hz]')\n",
        "ax.set_ylabel('PSD [V**2/Hz]')\n",
        "# set x scale to log\n",
        "ax.set_xscale('log')\n",
        "ax.legend()\n",
        "\n",
        "save_path = 'psd/all_layers.png'\n",
        "# save_path = None\n",
        "fig_im = fig2img(fig)\n",
        "if save_path is not None:\n",
        "    fig_im.save(save_path)"
      ],
      "metadata": {
        "id": "DEy4Kw_NmFsf"
      },
      "execution_count": null,
      "outputs": []
    },
    {
      "cell_type": "markdown",
      "source": [
        "### Task: Implement PCA / PSD over kinematics"
      ],
      "metadata": {
        "id": "9vDOxoO-mJML"
      }
    },
    {
      "cell_type": "code",
      "source": [],
      "metadata": {
        "id": "Xt3g7ubAmJmo"
      },
      "execution_count": null,
      "outputs": []
    },
    {
      "cell_type": "code",
      "source": [],
      "metadata": {
        "id": "2hYlSOZhzhIE"
      },
      "execution_count": null,
      "outputs": []
    },
    {
      "cell_type": "markdown",
      "source": [
        "## Plot in a live loop"
      ],
      "metadata": {
        "collapsed": false,
        "pycharm": {
          "name": "#%% md\n"
        },
        "id": "_9161SUb-srb"
      }
    },
    {
      "cell_type": "code",
      "execution_count": null,
      "outputs": [],
      "source": [
        "# plot a single point\n",
        "\n",
        "time_step = env.reset()\n",
        "episode_len = 0\n",
        "episode_reward = 0\n",
        "\n",
        "# create an imageio writer to a mp4\n",
        "writer = imageio.get_writer('test_combined_embedding_cheetah.mp4', fps=50)\n",
        "\n",
        "# first, clear the hooks\n",
        "clear_hook_dict(hook_dict)\n",
        "\n",
        "while not time_step.last():\n",
        "    # get the state\n",
        "    state = get_flat_obs(time_step)\n",
        "    # sample an action\n",
        "    action = agent.select_action(state)\n",
        "    # step the environment\n",
        "    time_step = env.step(action)\n",
        "\n",
        "    # record from a camera\n",
        "    stitched_img = create_stitched_img(env)\n",
        "\n",
        "    # get the latest dimension and do pca\n",
        "    for name, hook_list in hook_dict.items():\n",
        "        latest_activation = hook_list[-1]\n",
        "        point = latest_activation.detach().cpu().numpy().reshape(1, -1)\n",
        "        pca = pca_dict[name]\n",
        "        # grab corresponding activations\n",
        "        activations = activations_dict[name]\n",
        "\n",
        "        # plot single point\n",
        "        img = plot_single_point(point=point, activations=activations, pca=pca, layer_name=name)\n",
        "\n",
        "        # combine the two images\n",
        "        stitched_img = np.concatenate((img, stitched_img), axis=1)\n",
        "\n",
        "        # img_arr.append(combined_img)\n",
        "\n",
        "    # write to the writer\n",
        "    writer.append_data(stitched_img)\n",
        "\n",
        "    # logging stuff\n",
        "    episode_reward += time_step.reward\n",
        "    episode_len += 1\n",
        "\n",
        "    # # clear the hooks for memory purposes?\n",
        "    # clear_hook_dict(hook_dict)\n",
        "\n",
        "# close the writer\n",
        "writer.close()\n",
        "\n",
        "print('episode stats:', 'episode_len:', episode_len, 'episode_reward:', episode_reward)"
      ],
      "metadata": {
        "pycharm": {
          "name": "#%%\n"
        },
        "id": "oZxJjdlU-src"
      }
    },
    {
      "cell_type": "code",
      "source": [],
      "metadata": {
        "id": "hD1NWTh0BEjR"
      },
      "execution_count": null,
      "outputs": []
    },
    {
      "cell_type": "markdown",
      "source": [],
      "metadata": {
        "id": "NRHSuO7FChEw"
      }
    }
  ],
  "metadata": {
    "kernelspec": {
      "display_name": "Python 3",
      "language": "python",
      "name": "python3"
    },
    "language_info": {
      "codemirror_mode": {
        "name": "ipython",
        "version": 2
      },
      "file_extension": ".py",
      "mimetype": "text/x-python",
      "name": "python",
      "nbconvert_exporter": "python",
      "pygments_lexer": "ipython2",
      "version": "2.7.6"
    },
    "colab": {
      "provenance": [],
      "collapsed_sections": [
        "3Q4pAgVgmC48",
        "_9161SUb-srb"
      ]
    },
    "accelerator": "GPU",
    "gpuClass": "standard"
  },
  "nbformat": 4,
  "nbformat_minor": 0
}